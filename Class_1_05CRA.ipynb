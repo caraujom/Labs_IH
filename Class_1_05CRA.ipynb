{
  "nbformat": 4,
  "nbformat_minor": 0,
  "metadata": {
    "colab": {
      "provenance": [],
      "authorship_tag": "ABX9TyOnxZdv2g7X6UJwklR7AnlM",
      "include_colab_link": true
    },
    "kernelspec": {
      "name": "python3",
      "display_name": "Python 3"
    },
    "language_info": {
      "name": "python"
    }
  },
  "cells": [
    {
      "cell_type": "markdown",
      "metadata": {
        "id": "view-in-github",
        "colab_type": "text"
      },
      "source": [
        "<a href=\"https://colab.research.google.com/github/caraujom/Labs_IH/blob/main/Class_1_05CRA.ipynb\" target=\"_parent\"><img src=\"https://colab.research.google.com/assets/colab-badge.svg\" alt=\"Open In Colab\"/></a>"
      ]
    },
    {
      "cell_type": "code",
      "execution_count": 4,
      "metadata": {
        "id": "KODLrCtsHfe6"
      },
      "outputs": [],
      "source": [
        "import pandas as pd\n",
        "import matplotlib.pyplot as plt #  el .pyplot es una parte de esa libreria, asi se trae\n",
        "# pip install matplotlib (si no la tengo)\n",
        "import seaborn as sns \n",
        "import numpy as np"
      ]
    },
    {
      "cell_type": "code",
      "source": [
        "data = pd.read_csv('merged_clean_ver2.txt')"
      ],
      "metadata": {
        "id": "s3gtXMJkJ7O8"
      },
      "execution_count": 5,
      "outputs": []
    },
    {
      "cell_type": "code",
      "source": [
        "data"
      ],
      "metadata": {
        "colab": {
          "base_uri": "https://localhost:8080/",
          "height": 488
        },
        "id": "VR1IGrd3Q1p8",
        "outputId": "4673d49d-a15f-418e-d92a-45acf26b2ea1"
      },
      "execution_count": 6,
      "outputs": [
        {
          "output_type": "execute_result",
          "data": {
            "text/plain": [
              "          id state gender  median_home_val  median_household_income  ic2  ic3  \\\n",
              "0      44060    FL      M      1158.437751                      392  430  466   \n",
              "1      96093    IL      M       537.000000                      365  415  410   \n",
              "2      43333    FL      F       725.000000                      301  340  361   \n",
              "3      21885    NC      M      1158.437751                      401  407  399   \n",
              "4     190108    FL      F       995.000000                      252  280  316   \n",
              "...      ...   ...    ...              ...                      ...  ...  ...   \n",
              "3988   66762    MI      F       632.000000                      279  336  339   \n",
              "3989    6443    FL      M       595.000000                      252  263  262   \n",
              "3990  151175    CA      F      2707.000000                      507  504  538   \n",
              "3991  151504    CA      M      2666.000000                      535  609  612   \n",
              "3992   74303    MI      M       444.000000                      225  264  269   \n",
              "\n",
              "      ic4    ic5    avggift  target_d  \n",
              "0     520  21975  28.000000     100.0  \n",
              "1     473  19387   5.666667       7.0  \n",
              "2     436  18837   4.111111       5.0  \n",
              "3     413  14014  27.277778      38.0  \n",
              "4     348  17991   6.000000       5.0  \n",
              "...   ...    ...        ...       ...  \n",
              "3988  388  12653   8.533333       5.0  \n",
              "3989  274  11132  14.692308      20.0  \n",
              "3990  537  16165  12.117647      22.0  \n",
              "3991  653  24745  12.333333      21.0  \n",
              "3992  299  10088  17.142857      25.0  \n",
              "\n",
              "[3993 rows x 11 columns]"
            ],
            "text/html": [
              "\n",
              "  <div id=\"df-4f91b9e5-e9d6-46aa-8fba-bc5ccce45e46\">\n",
              "    <div class=\"colab-df-container\">\n",
              "      <div>\n",
              "<style scoped>\n",
              "    .dataframe tbody tr th:only-of-type {\n",
              "        vertical-align: middle;\n",
              "    }\n",
              "\n",
              "    .dataframe tbody tr th {\n",
              "        vertical-align: top;\n",
              "    }\n",
              "\n",
              "    .dataframe thead th {\n",
              "        text-align: right;\n",
              "    }\n",
              "</style>\n",
              "<table border=\"1\" class=\"dataframe\">\n",
              "  <thead>\n",
              "    <tr style=\"text-align: right;\">\n",
              "      <th></th>\n",
              "      <th>id</th>\n",
              "      <th>state</th>\n",
              "      <th>gender</th>\n",
              "      <th>median_home_val</th>\n",
              "      <th>median_household_income</th>\n",
              "      <th>ic2</th>\n",
              "      <th>ic3</th>\n",
              "      <th>ic4</th>\n",
              "      <th>ic5</th>\n",
              "      <th>avggift</th>\n",
              "      <th>target_d</th>\n",
              "    </tr>\n",
              "  </thead>\n",
              "  <tbody>\n",
              "    <tr>\n",
              "      <th>0</th>\n",
              "      <td>44060</td>\n",
              "      <td>FL</td>\n",
              "      <td>M</td>\n",
              "      <td>1158.437751</td>\n",
              "      <td>392</td>\n",
              "      <td>430</td>\n",
              "      <td>466</td>\n",
              "      <td>520</td>\n",
              "      <td>21975</td>\n",
              "      <td>28.000000</td>\n",
              "      <td>100.0</td>\n",
              "    </tr>\n",
              "    <tr>\n",
              "      <th>1</th>\n",
              "      <td>96093</td>\n",
              "      <td>IL</td>\n",
              "      <td>M</td>\n",
              "      <td>537.000000</td>\n",
              "      <td>365</td>\n",
              "      <td>415</td>\n",
              "      <td>410</td>\n",
              "      <td>473</td>\n",
              "      <td>19387</td>\n",
              "      <td>5.666667</td>\n",
              "      <td>7.0</td>\n",
              "    </tr>\n",
              "    <tr>\n",
              "      <th>2</th>\n",
              "      <td>43333</td>\n",
              "      <td>FL</td>\n",
              "      <td>F</td>\n",
              "      <td>725.000000</td>\n",
              "      <td>301</td>\n",
              "      <td>340</td>\n",
              "      <td>361</td>\n",
              "      <td>436</td>\n",
              "      <td>18837</td>\n",
              "      <td>4.111111</td>\n",
              "      <td>5.0</td>\n",
              "    </tr>\n",
              "    <tr>\n",
              "      <th>3</th>\n",
              "      <td>21885</td>\n",
              "      <td>NC</td>\n",
              "      <td>M</td>\n",
              "      <td>1158.437751</td>\n",
              "      <td>401</td>\n",
              "      <td>407</td>\n",
              "      <td>399</td>\n",
              "      <td>413</td>\n",
              "      <td>14014</td>\n",
              "      <td>27.277778</td>\n",
              "      <td>38.0</td>\n",
              "    </tr>\n",
              "    <tr>\n",
              "      <th>4</th>\n",
              "      <td>190108</td>\n",
              "      <td>FL</td>\n",
              "      <td>F</td>\n",
              "      <td>995.000000</td>\n",
              "      <td>252</td>\n",
              "      <td>280</td>\n",
              "      <td>316</td>\n",
              "      <td>348</td>\n",
              "      <td>17991</td>\n",
              "      <td>6.000000</td>\n",
              "      <td>5.0</td>\n",
              "    </tr>\n",
              "    <tr>\n",
              "      <th>...</th>\n",
              "      <td>...</td>\n",
              "      <td>...</td>\n",
              "      <td>...</td>\n",
              "      <td>...</td>\n",
              "      <td>...</td>\n",
              "      <td>...</td>\n",
              "      <td>...</td>\n",
              "      <td>...</td>\n",
              "      <td>...</td>\n",
              "      <td>...</td>\n",
              "      <td>...</td>\n",
              "    </tr>\n",
              "    <tr>\n",
              "      <th>3988</th>\n",
              "      <td>66762</td>\n",
              "      <td>MI</td>\n",
              "      <td>F</td>\n",
              "      <td>632.000000</td>\n",
              "      <td>279</td>\n",
              "      <td>336</td>\n",
              "      <td>339</td>\n",
              "      <td>388</td>\n",
              "      <td>12653</td>\n",
              "      <td>8.533333</td>\n",
              "      <td>5.0</td>\n",
              "    </tr>\n",
              "    <tr>\n",
              "      <th>3989</th>\n",
              "      <td>6443</td>\n",
              "      <td>FL</td>\n",
              "      <td>M</td>\n",
              "      <td>595.000000</td>\n",
              "      <td>252</td>\n",
              "      <td>263</td>\n",
              "      <td>262</td>\n",
              "      <td>274</td>\n",
              "      <td>11132</td>\n",
              "      <td>14.692308</td>\n",
              "      <td>20.0</td>\n",
              "    </tr>\n",
              "    <tr>\n",
              "      <th>3990</th>\n",
              "      <td>151175</td>\n",
              "      <td>CA</td>\n",
              "      <td>F</td>\n",
              "      <td>2707.000000</td>\n",
              "      <td>507</td>\n",
              "      <td>504</td>\n",
              "      <td>538</td>\n",
              "      <td>537</td>\n",
              "      <td>16165</td>\n",
              "      <td>12.117647</td>\n",
              "      <td>22.0</td>\n",
              "    </tr>\n",
              "    <tr>\n",
              "      <th>3991</th>\n",
              "      <td>151504</td>\n",
              "      <td>CA</td>\n",
              "      <td>M</td>\n",
              "      <td>2666.000000</td>\n",
              "      <td>535</td>\n",
              "      <td>609</td>\n",
              "      <td>612</td>\n",
              "      <td>653</td>\n",
              "      <td>24745</td>\n",
              "      <td>12.333333</td>\n",
              "      <td>21.0</td>\n",
              "    </tr>\n",
              "    <tr>\n",
              "      <th>3992</th>\n",
              "      <td>74303</td>\n",
              "      <td>MI</td>\n",
              "      <td>M</td>\n",
              "      <td>444.000000</td>\n",
              "      <td>225</td>\n",
              "      <td>264</td>\n",
              "      <td>269</td>\n",
              "      <td>299</td>\n",
              "      <td>10088</td>\n",
              "      <td>17.142857</td>\n",
              "      <td>25.0</td>\n",
              "    </tr>\n",
              "  </tbody>\n",
              "</table>\n",
              "<p>3993 rows × 11 columns</p>\n",
              "</div>\n",
              "      <button class=\"colab-df-convert\" onclick=\"convertToInteractive('df-4f91b9e5-e9d6-46aa-8fba-bc5ccce45e46')\"\n",
              "              title=\"Convert this dataframe to an interactive table.\"\n",
              "              style=\"display:none;\">\n",
              "        \n",
              "  <svg xmlns=\"http://www.w3.org/2000/svg\" height=\"24px\"viewBox=\"0 0 24 24\"\n",
              "       width=\"24px\">\n",
              "    <path d=\"M0 0h24v24H0V0z\" fill=\"none\"/>\n",
              "    <path d=\"M18.56 5.44l.94 2.06.94-2.06 2.06-.94-2.06-.94-.94-2.06-.94 2.06-2.06.94zm-11 1L8.5 8.5l.94-2.06 2.06-.94-2.06-.94L8.5 2.5l-.94 2.06-2.06.94zm10 10l.94 2.06.94-2.06 2.06-.94-2.06-.94-.94-2.06-.94 2.06-2.06.94z\"/><path d=\"M17.41 7.96l-1.37-1.37c-.4-.4-.92-.59-1.43-.59-.52 0-1.04.2-1.43.59L10.3 9.45l-7.72 7.72c-.78.78-.78 2.05 0 2.83L4 21.41c.39.39.9.59 1.41.59.51 0 1.02-.2 1.41-.59l7.78-7.78 2.81-2.81c.8-.78.8-2.07 0-2.86zM5.41 20L4 18.59l7.72-7.72 1.47 1.35L5.41 20z\"/>\n",
              "  </svg>\n",
              "      </button>\n",
              "      \n",
              "  <style>\n",
              "    .colab-df-container {\n",
              "      display:flex;\n",
              "      flex-wrap:wrap;\n",
              "      gap: 12px;\n",
              "    }\n",
              "\n",
              "    .colab-df-convert {\n",
              "      background-color: #E8F0FE;\n",
              "      border: none;\n",
              "      border-radius: 50%;\n",
              "      cursor: pointer;\n",
              "      display: none;\n",
              "      fill: #1967D2;\n",
              "      height: 32px;\n",
              "      padding: 0 0 0 0;\n",
              "      width: 32px;\n",
              "    }\n",
              "\n",
              "    .colab-df-convert:hover {\n",
              "      background-color: #E2EBFA;\n",
              "      box-shadow: 0px 1px 2px rgba(60, 64, 67, 0.3), 0px 1px 3px 1px rgba(60, 64, 67, 0.15);\n",
              "      fill: #174EA6;\n",
              "    }\n",
              "\n",
              "    [theme=dark] .colab-df-convert {\n",
              "      background-color: #3B4455;\n",
              "      fill: #D2E3FC;\n",
              "    }\n",
              "\n",
              "    [theme=dark] .colab-df-convert:hover {\n",
              "      background-color: #434B5C;\n",
              "      box-shadow: 0px 1px 3px 1px rgba(0, 0, 0, 0.15);\n",
              "      filter: drop-shadow(0px 1px 2px rgba(0, 0, 0, 0.3));\n",
              "      fill: #FFFFFF;\n",
              "    }\n",
              "  </style>\n",
              "\n",
              "      <script>\n",
              "        const buttonEl =\n",
              "          document.querySelector('#df-4f91b9e5-e9d6-46aa-8fba-bc5ccce45e46 button.colab-df-convert');\n",
              "        buttonEl.style.display =\n",
              "          google.colab.kernel.accessAllowed ? 'block' : 'none';\n",
              "\n",
              "        async function convertToInteractive(key) {\n",
              "          const element = document.querySelector('#df-4f91b9e5-e9d6-46aa-8fba-bc5ccce45e46');\n",
              "          const dataTable =\n",
              "            await google.colab.kernel.invokeFunction('convertToInteractive',\n",
              "                                                     [key], {});\n",
              "          if (!dataTable) return;\n",
              "\n",
              "          const docLinkHtml = 'Like what you see? Visit the ' +\n",
              "            '<a target=\"_blank\" href=https://colab.research.google.com/notebooks/data_table.ipynb>data table notebook</a>'\n",
              "            + ' to learn more about interactive tables.';\n",
              "          element.innerHTML = '';\n",
              "          dataTable['output_type'] = 'display_data';\n",
              "          await google.colab.output.renderOutput(dataTable, element);\n",
              "          const docLink = document.createElement('div');\n",
              "          docLink.innerHTML = docLinkHtml;\n",
              "          element.appendChild(docLink);\n",
              "        }\n",
              "      </script>\n",
              "    </div>\n",
              "  </div>\n",
              "  "
            ]
          },
          "metadata": {},
          "execution_count": 6
        }
      ]
    },
    {
      "cell_type": "code",
      "source": [
        "data.describe()\n",
        "# me da un breve panorama estadistico de la DB\n",
        "# el describe sirve solo para info numerica \n",
        "#al incluirle (include='all') mete todas las columnas pero ojo , rellenan de valores nulos aquellos datos que no tienen sentido\n",
        "#en variables categoricas\n"
      ],
      "metadata": {
        "colab": {
          "base_uri": "https://localhost:8080/",
          "height": 364
        },
        "id": "HOKTwLaxQ3Yo",
        "outputId": "a7224df5-25a0-4036-9e93-f8437c9ed6da"
      },
      "execution_count": 7,
      "outputs": [
        {
          "output_type": "execute_result",
          "data": {
            "text/plain": [
              "                  id  median_home_val  median_household_income          ic2  \\\n",
              "count    3993.000000      3993.000000              3993.000000  3993.000000   \n",
              "mean    98929.308039      1158.437751               351.622840   400.713248   \n",
              "std     58179.839090      1033.485773               168.488445   180.568500   \n",
              "min        12.000000         0.000000                 0.000000     0.000000   \n",
              "25%     46153.000000       548.000000               239.000000   284.000000   \n",
              "50%    101432.000000       803.000000               318.000000   366.000000   \n",
              "75%    151653.000000      1349.000000               425.000000   478.000000   \n",
              "max    191779.000000      5982.000000              1500.000000  1500.000000   \n",
              "\n",
              "               ic3          ic4            ic5      avggift     target_d  \n",
              "count  3993.000000  3993.000000    3993.000000  3993.000000  3993.000000  \n",
              "mean    399.876283   444.732031   16456.413724    11.785117    15.665036  \n",
              "std     164.822741   175.004178    9455.318118    10.172672    12.703041  \n",
              "min       0.000000     0.000000       0.000000     2.260870     1.000000  \n",
              "25%     287.000000   325.000000   11136.000000     7.187500    10.000000  \n",
              "50%     365.000000   410.000000   14356.000000    10.000000    14.000000  \n",
              "75%     480.000000   528.000000   18780.000000    14.428571    20.000000  \n",
              "max    1311.000000  1331.000000  174523.000000   450.000000   200.000000  "
            ],
            "text/html": [
              "\n",
              "  <div id=\"df-d9e6edc7-04da-4bed-9ddc-8acf33a1d831\">\n",
              "    <div class=\"colab-df-container\">\n",
              "      <div>\n",
              "<style scoped>\n",
              "    .dataframe tbody tr th:only-of-type {\n",
              "        vertical-align: middle;\n",
              "    }\n",
              "\n",
              "    .dataframe tbody tr th {\n",
              "        vertical-align: top;\n",
              "    }\n",
              "\n",
              "    .dataframe thead th {\n",
              "        text-align: right;\n",
              "    }\n",
              "</style>\n",
              "<table border=\"1\" class=\"dataframe\">\n",
              "  <thead>\n",
              "    <tr style=\"text-align: right;\">\n",
              "      <th></th>\n",
              "      <th>id</th>\n",
              "      <th>median_home_val</th>\n",
              "      <th>median_household_income</th>\n",
              "      <th>ic2</th>\n",
              "      <th>ic3</th>\n",
              "      <th>ic4</th>\n",
              "      <th>ic5</th>\n",
              "      <th>avggift</th>\n",
              "      <th>target_d</th>\n",
              "    </tr>\n",
              "  </thead>\n",
              "  <tbody>\n",
              "    <tr>\n",
              "      <th>count</th>\n",
              "      <td>3993.000000</td>\n",
              "      <td>3993.000000</td>\n",
              "      <td>3993.000000</td>\n",
              "      <td>3993.000000</td>\n",
              "      <td>3993.000000</td>\n",
              "      <td>3993.000000</td>\n",
              "      <td>3993.000000</td>\n",
              "      <td>3993.000000</td>\n",
              "      <td>3993.000000</td>\n",
              "    </tr>\n",
              "    <tr>\n",
              "      <th>mean</th>\n",
              "      <td>98929.308039</td>\n",
              "      <td>1158.437751</td>\n",
              "      <td>351.622840</td>\n",
              "      <td>400.713248</td>\n",
              "      <td>399.876283</td>\n",
              "      <td>444.732031</td>\n",
              "      <td>16456.413724</td>\n",
              "      <td>11.785117</td>\n",
              "      <td>15.665036</td>\n",
              "    </tr>\n",
              "    <tr>\n",
              "      <th>std</th>\n",
              "      <td>58179.839090</td>\n",
              "      <td>1033.485773</td>\n",
              "      <td>168.488445</td>\n",
              "      <td>180.568500</td>\n",
              "      <td>164.822741</td>\n",
              "      <td>175.004178</td>\n",
              "      <td>9455.318118</td>\n",
              "      <td>10.172672</td>\n",
              "      <td>12.703041</td>\n",
              "    </tr>\n",
              "    <tr>\n",
              "      <th>min</th>\n",
              "      <td>12.000000</td>\n",
              "      <td>0.000000</td>\n",
              "      <td>0.000000</td>\n",
              "      <td>0.000000</td>\n",
              "      <td>0.000000</td>\n",
              "      <td>0.000000</td>\n",
              "      <td>0.000000</td>\n",
              "      <td>2.260870</td>\n",
              "      <td>1.000000</td>\n",
              "    </tr>\n",
              "    <tr>\n",
              "      <th>25%</th>\n",
              "      <td>46153.000000</td>\n",
              "      <td>548.000000</td>\n",
              "      <td>239.000000</td>\n",
              "      <td>284.000000</td>\n",
              "      <td>287.000000</td>\n",
              "      <td>325.000000</td>\n",
              "      <td>11136.000000</td>\n",
              "      <td>7.187500</td>\n",
              "      <td>10.000000</td>\n",
              "    </tr>\n",
              "    <tr>\n",
              "      <th>50%</th>\n",
              "      <td>101432.000000</td>\n",
              "      <td>803.000000</td>\n",
              "      <td>318.000000</td>\n",
              "      <td>366.000000</td>\n",
              "      <td>365.000000</td>\n",
              "      <td>410.000000</td>\n",
              "      <td>14356.000000</td>\n",
              "      <td>10.000000</td>\n",
              "      <td>14.000000</td>\n",
              "    </tr>\n",
              "    <tr>\n",
              "      <th>75%</th>\n",
              "      <td>151653.000000</td>\n",
              "      <td>1349.000000</td>\n",
              "      <td>425.000000</td>\n",
              "      <td>478.000000</td>\n",
              "      <td>480.000000</td>\n",
              "      <td>528.000000</td>\n",
              "      <td>18780.000000</td>\n",
              "      <td>14.428571</td>\n",
              "      <td>20.000000</td>\n",
              "    </tr>\n",
              "    <tr>\n",
              "      <th>max</th>\n",
              "      <td>191779.000000</td>\n",
              "      <td>5982.000000</td>\n",
              "      <td>1500.000000</td>\n",
              "      <td>1500.000000</td>\n",
              "      <td>1311.000000</td>\n",
              "      <td>1331.000000</td>\n",
              "      <td>174523.000000</td>\n",
              "      <td>450.000000</td>\n",
              "      <td>200.000000</td>\n",
              "    </tr>\n",
              "  </tbody>\n",
              "</table>\n",
              "</div>\n",
              "      <button class=\"colab-df-convert\" onclick=\"convertToInteractive('df-d9e6edc7-04da-4bed-9ddc-8acf33a1d831')\"\n",
              "              title=\"Convert this dataframe to an interactive table.\"\n",
              "              style=\"display:none;\">\n",
              "        \n",
              "  <svg xmlns=\"http://www.w3.org/2000/svg\" height=\"24px\"viewBox=\"0 0 24 24\"\n",
              "       width=\"24px\">\n",
              "    <path d=\"M0 0h24v24H0V0z\" fill=\"none\"/>\n",
              "    <path d=\"M18.56 5.44l.94 2.06.94-2.06 2.06-.94-2.06-.94-.94-2.06-.94 2.06-2.06.94zm-11 1L8.5 8.5l.94-2.06 2.06-.94-2.06-.94L8.5 2.5l-.94 2.06-2.06.94zm10 10l.94 2.06.94-2.06 2.06-.94-2.06-.94-.94-2.06-.94 2.06-2.06.94z\"/><path d=\"M17.41 7.96l-1.37-1.37c-.4-.4-.92-.59-1.43-.59-.52 0-1.04.2-1.43.59L10.3 9.45l-7.72 7.72c-.78.78-.78 2.05 0 2.83L4 21.41c.39.39.9.59 1.41.59.51 0 1.02-.2 1.41-.59l7.78-7.78 2.81-2.81c.8-.78.8-2.07 0-2.86zM5.41 20L4 18.59l7.72-7.72 1.47 1.35L5.41 20z\"/>\n",
              "  </svg>\n",
              "      </button>\n",
              "      \n",
              "  <style>\n",
              "    .colab-df-container {\n",
              "      display:flex;\n",
              "      flex-wrap:wrap;\n",
              "      gap: 12px;\n",
              "    }\n",
              "\n",
              "    .colab-df-convert {\n",
              "      background-color: #E8F0FE;\n",
              "      border: none;\n",
              "      border-radius: 50%;\n",
              "      cursor: pointer;\n",
              "      display: none;\n",
              "      fill: #1967D2;\n",
              "      height: 32px;\n",
              "      padding: 0 0 0 0;\n",
              "      width: 32px;\n",
              "    }\n",
              "\n",
              "    .colab-df-convert:hover {\n",
              "      background-color: #E2EBFA;\n",
              "      box-shadow: 0px 1px 2px rgba(60, 64, 67, 0.3), 0px 1px 3px 1px rgba(60, 64, 67, 0.15);\n",
              "      fill: #174EA6;\n",
              "    }\n",
              "\n",
              "    [theme=dark] .colab-df-convert {\n",
              "      background-color: #3B4455;\n",
              "      fill: #D2E3FC;\n",
              "    }\n",
              "\n",
              "    [theme=dark] .colab-df-convert:hover {\n",
              "      background-color: #434B5C;\n",
              "      box-shadow: 0px 1px 3px 1px rgba(0, 0, 0, 0.15);\n",
              "      filter: drop-shadow(0px 1px 2px rgba(0, 0, 0, 0.3));\n",
              "      fill: #FFFFFF;\n",
              "    }\n",
              "  </style>\n",
              "\n",
              "      <script>\n",
              "        const buttonEl =\n",
              "          document.querySelector('#df-d9e6edc7-04da-4bed-9ddc-8acf33a1d831 button.colab-df-convert');\n",
              "        buttonEl.style.display =\n",
              "          google.colab.kernel.accessAllowed ? 'block' : 'none';\n",
              "\n",
              "        async function convertToInteractive(key) {\n",
              "          const element = document.querySelector('#df-d9e6edc7-04da-4bed-9ddc-8acf33a1d831');\n",
              "          const dataTable =\n",
              "            await google.colab.kernel.invokeFunction('convertToInteractive',\n",
              "                                                     [key], {});\n",
              "          if (!dataTable) return;\n",
              "\n",
              "          const docLinkHtml = 'Like what you see? Visit the ' +\n",
              "            '<a target=\"_blank\" href=https://colab.research.google.com/notebooks/data_table.ipynb>data table notebook</a>'\n",
              "            + ' to learn more about interactive tables.';\n",
              "          element.innerHTML = '';\n",
              "          dataTable['output_type'] = 'display_data';\n",
              "          await google.colab.output.renderOutput(dataTable, element);\n",
              "          const docLink = document.createElement('div');\n",
              "          docLink.innerHTML = docLinkHtml;\n",
              "          element.appendChild(docLink);\n",
              "        }\n",
              "      </script>\n",
              "    </div>\n",
              "  </div>\n",
              "  "
            ]
          },
          "metadata": {},
          "execution_count": 7
        }
      ]
    },
    {
      "cell_type": "code",
      "source": [
        "data['state'].describe()\n",
        "#describe solo para una columna"
      ],
      "metadata": {
        "colab": {
          "base_uri": "https://localhost:8080/"
        },
        "id": "WblmMhgARhbR",
        "outputId": "a3d9a040-1104-4cb7-b77e-01af55063333"
      },
      "execution_count": 8,
      "outputs": [
        {
          "output_type": "execute_result",
          "data": {
            "text/plain": [
              "count     3993\n",
              "unique      52\n",
              "top         CA\n",
              "freq       751\n",
              "Name: state, dtype: object"
            ]
          },
          "metadata": {},
          "execution_count": 8
        }
      ]
    },
    {
      "cell_type": "code",
      "source": [
        "data.describe(include=[np.object])\n",
        "#pone solo las columnas tipo object\n",
        "#en programacion habran 2 problematicas a revisar:\n",
        "#1. errores (hay muchos tipos) : no permiten ejecucion siga \n",
        "#2. warnings: son avisos pero si dejan programa siga corriendo, aqui abajo hay advertencia"
      ],
      "metadata": {
        "colab": {
          "base_uri": "https://localhost:8080/",
          "height": 247
        },
        "id": "Xk3ZG7vXRhYd",
        "outputId": "df7bf060-ebdb-4013-ed42-6a449833fa0a"
      },
      "execution_count": 10,
      "outputs": [
        {
          "output_type": "stream",
          "name": "stderr",
          "text": [
            "<ipython-input-10-f7a6ed04f2e7>:1: DeprecationWarning: `np.object` is a deprecated alias for the builtin `object`. To silence this warning, use `object` by itself. Doing this will not modify any behavior and is safe. \n",
            "Deprecated in NumPy 1.20; for more details and guidance: https://numpy.org/devdocs/release/1.20.0-notes.html#deprecations\n",
            "  data.describe(include=[np.object])\n"
          ]
        },
        {
          "output_type": "execute_result",
          "data": {
            "text/plain": [
              "       state gender\n",
              "count   3993   3993\n",
              "unique    52     10\n",
              "top       CA      F\n",
              "freq     751   2080"
            ],
            "text/html": [
              "\n",
              "  <div id=\"df-53e93584-8bee-4b4d-b996-518c513842e3\">\n",
              "    <div class=\"colab-df-container\">\n",
              "      <div>\n",
              "<style scoped>\n",
              "    .dataframe tbody tr th:only-of-type {\n",
              "        vertical-align: middle;\n",
              "    }\n",
              "\n",
              "    .dataframe tbody tr th {\n",
              "        vertical-align: top;\n",
              "    }\n",
              "\n",
              "    .dataframe thead th {\n",
              "        text-align: right;\n",
              "    }\n",
              "</style>\n",
              "<table border=\"1\" class=\"dataframe\">\n",
              "  <thead>\n",
              "    <tr style=\"text-align: right;\">\n",
              "      <th></th>\n",
              "      <th>state</th>\n",
              "      <th>gender</th>\n",
              "    </tr>\n",
              "  </thead>\n",
              "  <tbody>\n",
              "    <tr>\n",
              "      <th>count</th>\n",
              "      <td>3993</td>\n",
              "      <td>3993</td>\n",
              "    </tr>\n",
              "    <tr>\n",
              "      <th>unique</th>\n",
              "      <td>52</td>\n",
              "      <td>10</td>\n",
              "    </tr>\n",
              "    <tr>\n",
              "      <th>top</th>\n",
              "      <td>CA</td>\n",
              "      <td>F</td>\n",
              "    </tr>\n",
              "    <tr>\n",
              "      <th>freq</th>\n",
              "      <td>751</td>\n",
              "      <td>2080</td>\n",
              "    </tr>\n",
              "  </tbody>\n",
              "</table>\n",
              "</div>\n",
              "      <button class=\"colab-df-convert\" onclick=\"convertToInteractive('df-53e93584-8bee-4b4d-b996-518c513842e3')\"\n",
              "              title=\"Convert this dataframe to an interactive table.\"\n",
              "              style=\"display:none;\">\n",
              "        \n",
              "  <svg xmlns=\"http://www.w3.org/2000/svg\" height=\"24px\"viewBox=\"0 0 24 24\"\n",
              "       width=\"24px\">\n",
              "    <path d=\"M0 0h24v24H0V0z\" fill=\"none\"/>\n",
              "    <path d=\"M18.56 5.44l.94 2.06.94-2.06 2.06-.94-2.06-.94-.94-2.06-.94 2.06-2.06.94zm-11 1L8.5 8.5l.94-2.06 2.06-.94-2.06-.94L8.5 2.5l-.94 2.06-2.06.94zm10 10l.94 2.06.94-2.06 2.06-.94-2.06-.94-.94-2.06-.94 2.06-2.06.94z\"/><path d=\"M17.41 7.96l-1.37-1.37c-.4-.4-.92-.59-1.43-.59-.52 0-1.04.2-1.43.59L10.3 9.45l-7.72 7.72c-.78.78-.78 2.05 0 2.83L4 21.41c.39.39.9.59 1.41.59.51 0 1.02-.2 1.41-.59l7.78-7.78 2.81-2.81c.8-.78.8-2.07 0-2.86zM5.41 20L4 18.59l7.72-7.72 1.47 1.35L5.41 20z\"/>\n",
              "  </svg>\n",
              "      </button>\n",
              "      \n",
              "  <style>\n",
              "    .colab-df-container {\n",
              "      display:flex;\n",
              "      flex-wrap:wrap;\n",
              "      gap: 12px;\n",
              "    }\n",
              "\n",
              "    .colab-df-convert {\n",
              "      background-color: #E8F0FE;\n",
              "      border: none;\n",
              "      border-radius: 50%;\n",
              "      cursor: pointer;\n",
              "      display: none;\n",
              "      fill: #1967D2;\n",
              "      height: 32px;\n",
              "      padding: 0 0 0 0;\n",
              "      width: 32px;\n",
              "    }\n",
              "\n",
              "    .colab-df-convert:hover {\n",
              "      background-color: #E2EBFA;\n",
              "      box-shadow: 0px 1px 2px rgba(60, 64, 67, 0.3), 0px 1px 3px 1px rgba(60, 64, 67, 0.15);\n",
              "      fill: #174EA6;\n",
              "    }\n",
              "\n",
              "    [theme=dark] .colab-df-convert {\n",
              "      background-color: #3B4455;\n",
              "      fill: #D2E3FC;\n",
              "    }\n",
              "\n",
              "    [theme=dark] .colab-df-convert:hover {\n",
              "      background-color: #434B5C;\n",
              "      box-shadow: 0px 1px 3px 1px rgba(0, 0, 0, 0.15);\n",
              "      filter: drop-shadow(0px 1px 2px rgba(0, 0, 0, 0.3));\n",
              "      fill: #FFFFFF;\n",
              "    }\n",
              "  </style>\n",
              "\n",
              "      <script>\n",
              "        const buttonEl =\n",
              "          document.querySelector('#df-53e93584-8bee-4b4d-b996-518c513842e3 button.colab-df-convert');\n",
              "        buttonEl.style.display =\n",
              "          google.colab.kernel.accessAllowed ? 'block' : 'none';\n",
              "\n",
              "        async function convertToInteractive(key) {\n",
              "          const element = document.querySelector('#df-53e93584-8bee-4b4d-b996-518c513842e3');\n",
              "          const dataTable =\n",
              "            await google.colab.kernel.invokeFunction('convertToInteractive',\n",
              "                                                     [key], {});\n",
              "          if (!dataTable) return;\n",
              "\n",
              "          const docLinkHtml = 'Like what you see? Visit the ' +\n",
              "            '<a target=\"_blank\" href=https://colab.research.google.com/notebooks/data_table.ipynb>data table notebook</a>'\n",
              "            + ' to learn more about interactive tables.';\n",
              "          element.innerHTML = '';\n",
              "          dataTable['output_type'] = 'display_data';\n",
              "          await google.colab.output.renderOutput(dataTable, element);\n",
              "          const docLink = document.createElement('div');\n",
              "          docLink.innerHTML = docLinkHtml;\n",
              "          element.appendChild(docLink);\n",
              "        }\n",
              "      </script>\n",
              "    </div>\n",
              "  </div>\n",
              "  "
            ]
          },
          "metadata": {},
          "execution_count": 10
        }
      ]
    },
    {
      "cell_type": "code",
      "source": [
        "data.describe(include=[np.object]).T\n",
        "# el .T cambia las columnas por filas"
      ],
      "metadata": {
        "colab": {
          "base_uri": "https://localhost:8080/",
          "height": 184
        },
        "id": "B12WqNqYUwfF",
        "outputId": "b6424c6a-40a0-4316-f3d2-f4226e519bb0"
      },
      "execution_count": 11,
      "outputs": [
        {
          "output_type": "stream",
          "name": "stderr",
          "text": [
            "<ipython-input-11-b30076e76feb>:1: DeprecationWarning: `np.object` is a deprecated alias for the builtin `object`. To silence this warning, use `object` by itself. Doing this will not modify any behavior and is safe. \n",
            "Deprecated in NumPy 1.20; for more details and guidance: https://numpy.org/devdocs/release/1.20.0-notes.html#deprecations\n",
            "  data.describe(include=[np.object]).T\n"
          ]
        },
        {
          "output_type": "execute_result",
          "data": {
            "text/plain": [
              "       count unique top  freq\n",
              "state   3993     52  CA   751\n",
              "gender  3993     10   F  2080"
            ],
            "text/html": [
              "\n",
              "  <div id=\"df-7f6d474b-fd91-482f-ac31-f6828e4b05a8\">\n",
              "    <div class=\"colab-df-container\">\n",
              "      <div>\n",
              "<style scoped>\n",
              "    .dataframe tbody tr th:only-of-type {\n",
              "        vertical-align: middle;\n",
              "    }\n",
              "\n",
              "    .dataframe tbody tr th {\n",
              "        vertical-align: top;\n",
              "    }\n",
              "\n",
              "    .dataframe thead th {\n",
              "        text-align: right;\n",
              "    }\n",
              "</style>\n",
              "<table border=\"1\" class=\"dataframe\">\n",
              "  <thead>\n",
              "    <tr style=\"text-align: right;\">\n",
              "      <th></th>\n",
              "      <th>count</th>\n",
              "      <th>unique</th>\n",
              "      <th>top</th>\n",
              "      <th>freq</th>\n",
              "    </tr>\n",
              "  </thead>\n",
              "  <tbody>\n",
              "    <tr>\n",
              "      <th>state</th>\n",
              "      <td>3993</td>\n",
              "      <td>52</td>\n",
              "      <td>CA</td>\n",
              "      <td>751</td>\n",
              "    </tr>\n",
              "    <tr>\n",
              "      <th>gender</th>\n",
              "      <td>3993</td>\n",
              "      <td>10</td>\n",
              "      <td>F</td>\n",
              "      <td>2080</td>\n",
              "    </tr>\n",
              "  </tbody>\n",
              "</table>\n",
              "</div>\n",
              "      <button class=\"colab-df-convert\" onclick=\"convertToInteractive('df-7f6d474b-fd91-482f-ac31-f6828e4b05a8')\"\n",
              "              title=\"Convert this dataframe to an interactive table.\"\n",
              "              style=\"display:none;\">\n",
              "        \n",
              "  <svg xmlns=\"http://www.w3.org/2000/svg\" height=\"24px\"viewBox=\"0 0 24 24\"\n",
              "       width=\"24px\">\n",
              "    <path d=\"M0 0h24v24H0V0z\" fill=\"none\"/>\n",
              "    <path d=\"M18.56 5.44l.94 2.06.94-2.06 2.06-.94-2.06-.94-.94-2.06-.94 2.06-2.06.94zm-11 1L8.5 8.5l.94-2.06 2.06-.94-2.06-.94L8.5 2.5l-.94 2.06-2.06.94zm10 10l.94 2.06.94-2.06 2.06-.94-2.06-.94-.94-2.06-.94 2.06-2.06.94z\"/><path d=\"M17.41 7.96l-1.37-1.37c-.4-.4-.92-.59-1.43-.59-.52 0-1.04.2-1.43.59L10.3 9.45l-7.72 7.72c-.78.78-.78 2.05 0 2.83L4 21.41c.39.39.9.59 1.41.59.51 0 1.02-.2 1.41-.59l7.78-7.78 2.81-2.81c.8-.78.8-2.07 0-2.86zM5.41 20L4 18.59l7.72-7.72 1.47 1.35L5.41 20z\"/>\n",
              "  </svg>\n",
              "      </button>\n",
              "      \n",
              "  <style>\n",
              "    .colab-df-container {\n",
              "      display:flex;\n",
              "      flex-wrap:wrap;\n",
              "      gap: 12px;\n",
              "    }\n",
              "\n",
              "    .colab-df-convert {\n",
              "      background-color: #E8F0FE;\n",
              "      border: none;\n",
              "      border-radius: 50%;\n",
              "      cursor: pointer;\n",
              "      display: none;\n",
              "      fill: #1967D2;\n",
              "      height: 32px;\n",
              "      padding: 0 0 0 0;\n",
              "      width: 32px;\n",
              "    }\n",
              "\n",
              "    .colab-df-convert:hover {\n",
              "      background-color: #E2EBFA;\n",
              "      box-shadow: 0px 1px 2px rgba(60, 64, 67, 0.3), 0px 1px 3px 1px rgba(60, 64, 67, 0.15);\n",
              "      fill: #174EA6;\n",
              "    }\n",
              "\n",
              "    [theme=dark] .colab-df-convert {\n",
              "      background-color: #3B4455;\n",
              "      fill: #D2E3FC;\n",
              "    }\n",
              "\n",
              "    [theme=dark] .colab-df-convert:hover {\n",
              "      background-color: #434B5C;\n",
              "      box-shadow: 0px 1px 3px 1px rgba(0, 0, 0, 0.15);\n",
              "      filter: drop-shadow(0px 1px 2px rgba(0, 0, 0, 0.3));\n",
              "      fill: #FFFFFF;\n",
              "    }\n",
              "  </style>\n",
              "\n",
              "      <script>\n",
              "        const buttonEl =\n",
              "          document.querySelector('#df-7f6d474b-fd91-482f-ac31-f6828e4b05a8 button.colab-df-convert');\n",
              "        buttonEl.style.display =\n",
              "          google.colab.kernel.accessAllowed ? 'block' : 'none';\n",
              "\n",
              "        async function convertToInteractive(key) {\n",
              "          const element = document.querySelector('#df-7f6d474b-fd91-482f-ac31-f6828e4b05a8');\n",
              "          const dataTable =\n",
              "            await google.colab.kernel.invokeFunction('convertToInteractive',\n",
              "                                                     [key], {});\n",
              "          if (!dataTable) return;\n",
              "\n",
              "          const docLinkHtml = 'Like what you see? Visit the ' +\n",
              "            '<a target=\"_blank\" href=https://colab.research.google.com/notebooks/data_table.ipynb>data table notebook</a>'\n",
              "            + ' to learn more about interactive tables.';\n",
              "          element.innerHTML = '';\n",
              "          dataTable['output_type'] = 'display_data';\n",
              "          await google.colab.output.renderOutput(dataTable, element);\n",
              "          const docLink = document.createElement('div');\n",
              "          docLink.innerHTML = docLinkHtml;\n",
              "          element.appendChild(docLink);\n",
              "        }\n",
              "      </script>\n",
              "    </div>\n",
              "  </div>\n",
              "  "
            ]
          },
          "metadata": {},
          "execution_count": 11
        }
      ]
    },
    {
      "cell_type": "code",
      "source": [
        "#cambamos columnas x filas con el .T al final\n",
        "summary=data.describe().T\n",
        "summary"
      ],
      "metadata": {
        "colab": {
          "base_uri": "https://localhost:8080/",
          "height": 396
        },
        "id": "cjDSjFIKRhVk",
        "outputId": "96a77be2-40d0-4ad9-d78d-f6beda80b325"
      },
      "execution_count": 12,
      "outputs": [
        {
          "output_type": "execute_result",
          "data": {
            "text/plain": [
              "                          count          mean           std       min  \\\n",
              "id                       3993.0  98929.308039  58179.839090  12.00000   \n",
              "median_home_val          3993.0   1158.437751   1033.485773   0.00000   \n",
              "median_household_income  3993.0    351.622840    168.488445   0.00000   \n",
              "ic2                      3993.0    400.713248    180.568500   0.00000   \n",
              "ic3                      3993.0    399.876283    164.822741   0.00000   \n",
              "ic4                      3993.0    444.732031    175.004178   0.00000   \n",
              "ic5                      3993.0  16456.413724   9455.318118   0.00000   \n",
              "avggift                  3993.0     11.785117     10.172672   2.26087   \n",
              "target_d                 3993.0     15.665036     12.703041   1.00000   \n",
              "\n",
              "                                25%       50%            75%       max  \n",
              "id                       46153.0000  101432.0  151653.000000  191779.0  \n",
              "median_home_val            548.0000     803.0    1349.000000    5982.0  \n",
              "median_household_income    239.0000     318.0     425.000000    1500.0  \n",
              "ic2                        284.0000     366.0     478.000000    1500.0  \n",
              "ic3                        287.0000     365.0     480.000000    1311.0  \n",
              "ic4                        325.0000     410.0     528.000000    1331.0  \n",
              "ic5                      11136.0000   14356.0   18780.000000  174523.0  \n",
              "avggift                      7.1875      10.0      14.428571     450.0  \n",
              "target_d                    10.0000      14.0      20.000000     200.0  "
            ],
            "text/html": [
              "\n",
              "  <div id=\"df-44ff7525-7b43-4d38-b12b-2181aa9693c2\">\n",
              "    <div class=\"colab-df-container\">\n",
              "      <div>\n",
              "<style scoped>\n",
              "    .dataframe tbody tr th:only-of-type {\n",
              "        vertical-align: middle;\n",
              "    }\n",
              "\n",
              "    .dataframe tbody tr th {\n",
              "        vertical-align: top;\n",
              "    }\n",
              "\n",
              "    .dataframe thead th {\n",
              "        text-align: right;\n",
              "    }\n",
              "</style>\n",
              "<table border=\"1\" class=\"dataframe\">\n",
              "  <thead>\n",
              "    <tr style=\"text-align: right;\">\n",
              "      <th></th>\n",
              "      <th>count</th>\n",
              "      <th>mean</th>\n",
              "      <th>std</th>\n",
              "      <th>min</th>\n",
              "      <th>25%</th>\n",
              "      <th>50%</th>\n",
              "      <th>75%</th>\n",
              "      <th>max</th>\n",
              "    </tr>\n",
              "  </thead>\n",
              "  <tbody>\n",
              "    <tr>\n",
              "      <th>id</th>\n",
              "      <td>3993.0</td>\n",
              "      <td>98929.308039</td>\n",
              "      <td>58179.839090</td>\n",
              "      <td>12.00000</td>\n",
              "      <td>46153.0000</td>\n",
              "      <td>101432.0</td>\n",
              "      <td>151653.000000</td>\n",
              "      <td>191779.0</td>\n",
              "    </tr>\n",
              "    <tr>\n",
              "      <th>median_home_val</th>\n",
              "      <td>3993.0</td>\n",
              "      <td>1158.437751</td>\n",
              "      <td>1033.485773</td>\n",
              "      <td>0.00000</td>\n",
              "      <td>548.0000</td>\n",
              "      <td>803.0</td>\n",
              "      <td>1349.000000</td>\n",
              "      <td>5982.0</td>\n",
              "    </tr>\n",
              "    <tr>\n",
              "      <th>median_household_income</th>\n",
              "      <td>3993.0</td>\n",
              "      <td>351.622840</td>\n",
              "      <td>168.488445</td>\n",
              "      <td>0.00000</td>\n",
              "      <td>239.0000</td>\n",
              "      <td>318.0</td>\n",
              "      <td>425.000000</td>\n",
              "      <td>1500.0</td>\n",
              "    </tr>\n",
              "    <tr>\n",
              "      <th>ic2</th>\n",
              "      <td>3993.0</td>\n",
              "      <td>400.713248</td>\n",
              "      <td>180.568500</td>\n",
              "      <td>0.00000</td>\n",
              "      <td>284.0000</td>\n",
              "      <td>366.0</td>\n",
              "      <td>478.000000</td>\n",
              "      <td>1500.0</td>\n",
              "    </tr>\n",
              "    <tr>\n",
              "      <th>ic3</th>\n",
              "      <td>3993.0</td>\n",
              "      <td>399.876283</td>\n",
              "      <td>164.822741</td>\n",
              "      <td>0.00000</td>\n",
              "      <td>287.0000</td>\n",
              "      <td>365.0</td>\n",
              "      <td>480.000000</td>\n",
              "      <td>1311.0</td>\n",
              "    </tr>\n",
              "    <tr>\n",
              "      <th>ic4</th>\n",
              "      <td>3993.0</td>\n",
              "      <td>444.732031</td>\n",
              "      <td>175.004178</td>\n",
              "      <td>0.00000</td>\n",
              "      <td>325.0000</td>\n",
              "      <td>410.0</td>\n",
              "      <td>528.000000</td>\n",
              "      <td>1331.0</td>\n",
              "    </tr>\n",
              "    <tr>\n",
              "      <th>ic5</th>\n",
              "      <td>3993.0</td>\n",
              "      <td>16456.413724</td>\n",
              "      <td>9455.318118</td>\n",
              "      <td>0.00000</td>\n",
              "      <td>11136.0000</td>\n",
              "      <td>14356.0</td>\n",
              "      <td>18780.000000</td>\n",
              "      <td>174523.0</td>\n",
              "    </tr>\n",
              "    <tr>\n",
              "      <th>avggift</th>\n",
              "      <td>3993.0</td>\n",
              "      <td>11.785117</td>\n",
              "      <td>10.172672</td>\n",
              "      <td>2.26087</td>\n",
              "      <td>7.1875</td>\n",
              "      <td>10.0</td>\n",
              "      <td>14.428571</td>\n",
              "      <td>450.0</td>\n",
              "    </tr>\n",
              "    <tr>\n",
              "      <th>target_d</th>\n",
              "      <td>3993.0</td>\n",
              "      <td>15.665036</td>\n",
              "      <td>12.703041</td>\n",
              "      <td>1.00000</td>\n",
              "      <td>10.0000</td>\n",
              "      <td>14.0</td>\n",
              "      <td>20.000000</td>\n",
              "      <td>200.0</td>\n",
              "    </tr>\n",
              "  </tbody>\n",
              "</table>\n",
              "</div>\n",
              "      <button class=\"colab-df-convert\" onclick=\"convertToInteractive('df-44ff7525-7b43-4d38-b12b-2181aa9693c2')\"\n",
              "              title=\"Convert this dataframe to an interactive table.\"\n",
              "              style=\"display:none;\">\n",
              "        \n",
              "  <svg xmlns=\"http://www.w3.org/2000/svg\" height=\"24px\"viewBox=\"0 0 24 24\"\n",
              "       width=\"24px\">\n",
              "    <path d=\"M0 0h24v24H0V0z\" fill=\"none\"/>\n",
              "    <path d=\"M18.56 5.44l.94 2.06.94-2.06 2.06-.94-2.06-.94-.94-2.06-.94 2.06-2.06.94zm-11 1L8.5 8.5l.94-2.06 2.06-.94-2.06-.94L8.5 2.5l-.94 2.06-2.06.94zm10 10l.94 2.06.94-2.06 2.06-.94-2.06-.94-.94-2.06-.94 2.06-2.06.94z\"/><path d=\"M17.41 7.96l-1.37-1.37c-.4-.4-.92-.59-1.43-.59-.52 0-1.04.2-1.43.59L10.3 9.45l-7.72 7.72c-.78.78-.78 2.05 0 2.83L4 21.41c.39.39.9.59 1.41.59.51 0 1.02-.2 1.41-.59l7.78-7.78 2.81-2.81c.8-.78.8-2.07 0-2.86zM5.41 20L4 18.59l7.72-7.72 1.47 1.35L5.41 20z\"/>\n",
              "  </svg>\n",
              "      </button>\n",
              "      \n",
              "  <style>\n",
              "    .colab-df-container {\n",
              "      display:flex;\n",
              "      flex-wrap:wrap;\n",
              "      gap: 12px;\n",
              "    }\n",
              "\n",
              "    .colab-df-convert {\n",
              "      background-color: #E8F0FE;\n",
              "      border: none;\n",
              "      border-radius: 50%;\n",
              "      cursor: pointer;\n",
              "      display: none;\n",
              "      fill: #1967D2;\n",
              "      height: 32px;\n",
              "      padding: 0 0 0 0;\n",
              "      width: 32px;\n",
              "    }\n",
              "\n",
              "    .colab-df-convert:hover {\n",
              "      background-color: #E2EBFA;\n",
              "      box-shadow: 0px 1px 2px rgba(60, 64, 67, 0.3), 0px 1px 3px 1px rgba(60, 64, 67, 0.15);\n",
              "      fill: #174EA6;\n",
              "    }\n",
              "\n",
              "    [theme=dark] .colab-df-convert {\n",
              "      background-color: #3B4455;\n",
              "      fill: #D2E3FC;\n",
              "    }\n",
              "\n",
              "    [theme=dark] .colab-df-convert:hover {\n",
              "      background-color: #434B5C;\n",
              "      box-shadow: 0px 1px 3px 1px rgba(0, 0, 0, 0.15);\n",
              "      filter: drop-shadow(0px 1px 2px rgba(0, 0, 0, 0.3));\n",
              "      fill: #FFFFFF;\n",
              "    }\n",
              "  </style>\n",
              "\n",
              "      <script>\n",
              "        const buttonEl =\n",
              "          document.querySelector('#df-44ff7525-7b43-4d38-b12b-2181aa9693c2 button.colab-df-convert');\n",
              "        buttonEl.style.display =\n",
              "          google.colab.kernel.accessAllowed ? 'block' : 'none';\n",
              "\n",
              "        async function convertToInteractive(key) {\n",
              "          const element = document.querySelector('#df-44ff7525-7b43-4d38-b12b-2181aa9693c2');\n",
              "          const dataTable =\n",
              "            await google.colab.kernel.invokeFunction('convertToInteractive',\n",
              "                                                     [key], {});\n",
              "          if (!dataTable) return;\n",
              "\n",
              "          const docLinkHtml = 'Like what you see? Visit the ' +\n",
              "            '<a target=\"_blank\" href=https://colab.research.google.com/notebooks/data_table.ipynb>data table notebook</a>'\n",
              "            + ' to learn more about interactive tables.';\n",
              "          element.innerHTML = '';\n",
              "          dataTable['output_type'] = 'display_data';\n",
              "          await google.colab.output.renderOutput(dataTable, element);\n",
              "          const docLink = document.createElement('div');\n",
              "          docLink.innerHTML = docLinkHtml;\n",
              "          element.appendChild(docLink);\n",
              "        }\n",
              "      </script>\n",
              "    </div>\n",
              "  </div>\n",
              "  "
            ]
          },
          "metadata": {},
          "execution_count": 12
        }
      ]
    },
    {
      "cell_type": "code",
      "source": [
        "summary['iqr']=summary['75%']-summary['25%']\n",
        "summary\n",
        "#anadimos columna iqr (rango intercualtil) con una operacion de datos"
      ],
      "metadata": {
        "colab": {
          "base_uri": "https://localhost:8080/",
          "height": 396
        },
        "id": "UW5luCb_hbaI",
        "outputId": "3c2ec5ef-5c58-462f-a848-3924577ff745"
      },
      "execution_count": 14,
      "outputs": [
        {
          "output_type": "execute_result",
          "data": {
            "text/plain": [
              "                          count          mean           std       min  \\\n",
              "id                       3993.0  98929.308039  58179.839090  12.00000   \n",
              "median_home_val          3993.0   1158.437751   1033.485773   0.00000   \n",
              "median_household_income  3993.0    351.622840    168.488445   0.00000   \n",
              "ic2                      3993.0    400.713248    180.568500   0.00000   \n",
              "ic3                      3993.0    399.876283    164.822741   0.00000   \n",
              "ic4                      3993.0    444.732031    175.004178   0.00000   \n",
              "ic5                      3993.0  16456.413724   9455.318118   0.00000   \n",
              "avggift                  3993.0     11.785117     10.172672   2.26087   \n",
              "target_d                 3993.0     15.665036     12.703041   1.00000   \n",
              "\n",
              "                                25%       50%            75%       max  \\\n",
              "id                       46153.0000  101432.0  151653.000000  191779.0   \n",
              "median_home_val            548.0000     803.0    1349.000000    5982.0   \n",
              "median_household_income    239.0000     318.0     425.000000    1500.0   \n",
              "ic2                        284.0000     366.0     478.000000    1500.0   \n",
              "ic3                        287.0000     365.0     480.000000    1311.0   \n",
              "ic4                        325.0000     410.0     528.000000    1331.0   \n",
              "ic5                      11136.0000   14356.0   18780.000000  174523.0   \n",
              "avggift                      7.1875      10.0      14.428571     450.0   \n",
              "target_d                    10.0000      14.0      20.000000     200.0   \n",
              "\n",
              "                                   iqr  \n",
              "id                       105500.000000  \n",
              "median_home_val             801.000000  \n",
              "median_household_income     186.000000  \n",
              "ic2                         194.000000  \n",
              "ic3                         193.000000  \n",
              "ic4                         203.000000  \n",
              "ic5                        7644.000000  \n",
              "avggift                       7.241071  \n",
              "target_d                     10.000000  "
            ],
            "text/html": [
              "\n",
              "  <div id=\"df-154ff422-378c-49a6-9949-8a640f2b2559\">\n",
              "    <div class=\"colab-df-container\">\n",
              "      <div>\n",
              "<style scoped>\n",
              "    .dataframe tbody tr th:only-of-type {\n",
              "        vertical-align: middle;\n",
              "    }\n",
              "\n",
              "    .dataframe tbody tr th {\n",
              "        vertical-align: top;\n",
              "    }\n",
              "\n",
              "    .dataframe thead th {\n",
              "        text-align: right;\n",
              "    }\n",
              "</style>\n",
              "<table border=\"1\" class=\"dataframe\">\n",
              "  <thead>\n",
              "    <tr style=\"text-align: right;\">\n",
              "      <th></th>\n",
              "      <th>count</th>\n",
              "      <th>mean</th>\n",
              "      <th>std</th>\n",
              "      <th>min</th>\n",
              "      <th>25%</th>\n",
              "      <th>50%</th>\n",
              "      <th>75%</th>\n",
              "      <th>max</th>\n",
              "      <th>iqr</th>\n",
              "    </tr>\n",
              "  </thead>\n",
              "  <tbody>\n",
              "    <tr>\n",
              "      <th>id</th>\n",
              "      <td>3993.0</td>\n",
              "      <td>98929.308039</td>\n",
              "      <td>58179.839090</td>\n",
              "      <td>12.00000</td>\n",
              "      <td>46153.0000</td>\n",
              "      <td>101432.0</td>\n",
              "      <td>151653.000000</td>\n",
              "      <td>191779.0</td>\n",
              "      <td>105500.000000</td>\n",
              "    </tr>\n",
              "    <tr>\n",
              "      <th>median_home_val</th>\n",
              "      <td>3993.0</td>\n",
              "      <td>1158.437751</td>\n",
              "      <td>1033.485773</td>\n",
              "      <td>0.00000</td>\n",
              "      <td>548.0000</td>\n",
              "      <td>803.0</td>\n",
              "      <td>1349.000000</td>\n",
              "      <td>5982.0</td>\n",
              "      <td>801.000000</td>\n",
              "    </tr>\n",
              "    <tr>\n",
              "      <th>median_household_income</th>\n",
              "      <td>3993.0</td>\n",
              "      <td>351.622840</td>\n",
              "      <td>168.488445</td>\n",
              "      <td>0.00000</td>\n",
              "      <td>239.0000</td>\n",
              "      <td>318.0</td>\n",
              "      <td>425.000000</td>\n",
              "      <td>1500.0</td>\n",
              "      <td>186.000000</td>\n",
              "    </tr>\n",
              "    <tr>\n",
              "      <th>ic2</th>\n",
              "      <td>3993.0</td>\n",
              "      <td>400.713248</td>\n",
              "      <td>180.568500</td>\n",
              "      <td>0.00000</td>\n",
              "      <td>284.0000</td>\n",
              "      <td>366.0</td>\n",
              "      <td>478.000000</td>\n",
              "      <td>1500.0</td>\n",
              "      <td>194.000000</td>\n",
              "    </tr>\n",
              "    <tr>\n",
              "      <th>ic3</th>\n",
              "      <td>3993.0</td>\n",
              "      <td>399.876283</td>\n",
              "      <td>164.822741</td>\n",
              "      <td>0.00000</td>\n",
              "      <td>287.0000</td>\n",
              "      <td>365.0</td>\n",
              "      <td>480.000000</td>\n",
              "      <td>1311.0</td>\n",
              "      <td>193.000000</td>\n",
              "    </tr>\n",
              "    <tr>\n",
              "      <th>ic4</th>\n",
              "      <td>3993.0</td>\n",
              "      <td>444.732031</td>\n",
              "      <td>175.004178</td>\n",
              "      <td>0.00000</td>\n",
              "      <td>325.0000</td>\n",
              "      <td>410.0</td>\n",
              "      <td>528.000000</td>\n",
              "      <td>1331.0</td>\n",
              "      <td>203.000000</td>\n",
              "    </tr>\n",
              "    <tr>\n",
              "      <th>ic5</th>\n",
              "      <td>3993.0</td>\n",
              "      <td>16456.413724</td>\n",
              "      <td>9455.318118</td>\n",
              "      <td>0.00000</td>\n",
              "      <td>11136.0000</td>\n",
              "      <td>14356.0</td>\n",
              "      <td>18780.000000</td>\n",
              "      <td>174523.0</td>\n",
              "      <td>7644.000000</td>\n",
              "    </tr>\n",
              "    <tr>\n",
              "      <th>avggift</th>\n",
              "      <td>3993.0</td>\n",
              "      <td>11.785117</td>\n",
              "      <td>10.172672</td>\n",
              "      <td>2.26087</td>\n",
              "      <td>7.1875</td>\n",
              "      <td>10.0</td>\n",
              "      <td>14.428571</td>\n",
              "      <td>450.0</td>\n",
              "      <td>7.241071</td>\n",
              "    </tr>\n",
              "    <tr>\n",
              "      <th>target_d</th>\n",
              "      <td>3993.0</td>\n",
              "      <td>15.665036</td>\n",
              "      <td>12.703041</td>\n",
              "      <td>1.00000</td>\n",
              "      <td>10.0000</td>\n",
              "      <td>14.0</td>\n",
              "      <td>20.000000</td>\n",
              "      <td>200.0</td>\n",
              "      <td>10.000000</td>\n",
              "    </tr>\n",
              "  </tbody>\n",
              "</table>\n",
              "</div>\n",
              "      <button class=\"colab-df-convert\" onclick=\"convertToInteractive('df-154ff422-378c-49a6-9949-8a640f2b2559')\"\n",
              "              title=\"Convert this dataframe to an interactive table.\"\n",
              "              style=\"display:none;\">\n",
              "        \n",
              "  <svg xmlns=\"http://www.w3.org/2000/svg\" height=\"24px\"viewBox=\"0 0 24 24\"\n",
              "       width=\"24px\">\n",
              "    <path d=\"M0 0h24v24H0V0z\" fill=\"none\"/>\n",
              "    <path d=\"M18.56 5.44l.94 2.06.94-2.06 2.06-.94-2.06-.94-.94-2.06-.94 2.06-2.06.94zm-11 1L8.5 8.5l.94-2.06 2.06-.94-2.06-.94L8.5 2.5l-.94 2.06-2.06.94zm10 10l.94 2.06.94-2.06 2.06-.94-2.06-.94-.94-2.06-.94 2.06-2.06.94z\"/><path d=\"M17.41 7.96l-1.37-1.37c-.4-.4-.92-.59-1.43-.59-.52 0-1.04.2-1.43.59L10.3 9.45l-7.72 7.72c-.78.78-.78 2.05 0 2.83L4 21.41c.39.39.9.59 1.41.59.51 0 1.02-.2 1.41-.59l7.78-7.78 2.81-2.81c.8-.78.8-2.07 0-2.86zM5.41 20L4 18.59l7.72-7.72 1.47 1.35L5.41 20z\"/>\n",
              "  </svg>\n",
              "      </button>\n",
              "      \n",
              "  <style>\n",
              "    .colab-df-container {\n",
              "      display:flex;\n",
              "      flex-wrap:wrap;\n",
              "      gap: 12px;\n",
              "    }\n",
              "\n",
              "    .colab-df-convert {\n",
              "      background-color: #E8F0FE;\n",
              "      border: none;\n",
              "      border-radius: 50%;\n",
              "      cursor: pointer;\n",
              "      display: none;\n",
              "      fill: #1967D2;\n",
              "      height: 32px;\n",
              "      padding: 0 0 0 0;\n",
              "      width: 32px;\n",
              "    }\n",
              "\n",
              "    .colab-df-convert:hover {\n",
              "      background-color: #E2EBFA;\n",
              "      box-shadow: 0px 1px 2px rgba(60, 64, 67, 0.3), 0px 1px 3px 1px rgba(60, 64, 67, 0.15);\n",
              "      fill: #174EA6;\n",
              "    }\n",
              "\n",
              "    [theme=dark] .colab-df-convert {\n",
              "      background-color: #3B4455;\n",
              "      fill: #D2E3FC;\n",
              "    }\n",
              "\n",
              "    [theme=dark] .colab-df-convert:hover {\n",
              "      background-color: #434B5C;\n",
              "      box-shadow: 0px 1px 3px 1px rgba(0, 0, 0, 0.15);\n",
              "      filter: drop-shadow(0px 1px 2px rgba(0, 0, 0, 0.3));\n",
              "      fill: #FFFFFF;\n",
              "    }\n",
              "  </style>\n",
              "\n",
              "      <script>\n",
              "        const buttonEl =\n",
              "          document.querySelector('#df-154ff422-378c-49a6-9949-8a640f2b2559 button.colab-df-convert');\n",
              "        buttonEl.style.display =\n",
              "          google.colab.kernel.accessAllowed ? 'block' : 'none';\n",
              "\n",
              "        async function convertToInteractive(key) {\n",
              "          const element = document.querySelector('#df-154ff422-378c-49a6-9949-8a640f2b2559');\n",
              "          const dataTable =\n",
              "            await google.colab.kernel.invokeFunction('convertToInteractive',\n",
              "                                                     [key], {});\n",
              "          if (!dataTable) return;\n",
              "\n",
              "          const docLinkHtml = 'Like what you see? Visit the ' +\n",
              "            '<a target=\"_blank\" href=https://colab.research.google.com/notebooks/data_table.ipynb>data table notebook</a>'\n",
              "            + ' to learn more about interactive tables.';\n",
              "          element.innerHTML = '';\n",
              "          dataTable['output_type'] = 'display_data';\n",
              "          await google.colab.output.renderOutput(dataTable, element);\n",
              "          const docLink = document.createElement('div');\n",
              "          docLink.innerHTML = docLinkHtml;\n",
              "          element.appendChild(docLink);\n",
              "        }\n",
              "      </script>\n",
              "    </div>\n",
              "  </div>\n",
              "  "
            ]
          },
          "metadata": {},
          "execution_count": 14
        }
      ]
    },
    {
      "cell_type": "code",
      "source": [
        "# me interesa anadir columna con info estadistica de algo como rango intercuartil\n",
        "summary['25%']"
      ],
      "metadata": {
        "colab": {
          "base_uri": "https://localhost:8080/"
        },
        "id": "od9IrmJDRhQp",
        "outputId": "11166ee1-32ae-4b38-a4da-e77281e339dd"
      },
      "execution_count": 13,
      "outputs": [
        {
          "output_type": "execute_result",
          "data": {
            "text/plain": [
              "id                         46153.0000\n",
              "median_home_val              548.0000\n",
              "median_household_income      239.0000\n",
              "ic2                          284.0000\n",
              "ic3                          287.0000\n",
              "ic4                          325.0000\n",
              "ic5                        11136.0000\n",
              "avggift                        7.1875\n",
              "target_d                      10.0000\n",
              "Name: 25%, dtype: float64"
            ]
          },
          "metadata": {},
          "execution_count": 13
        }
      ]
    },
    {
      "cell_type": "code",
      "source": [
        "plt.scatter(x=data['ic2'], y=data['ic3'])"
      ],
      "metadata": {
        "colab": {
          "base_uri": "https://localhost:8080/",
          "height": 282
        },
        "id": "JaJrE-hZRg77",
        "outputId": "49820f76-ba12-443d-8c49-18578e4e922d"
      },
      "execution_count": 31,
      "outputs": [
        {
          "output_type": "execute_result",
          "data": {
            "text/plain": [
              "<matplotlib.collections.PathCollection at 0x7f3caddab5e0>"
            ]
          },
          "metadata": {},
          "execution_count": 31
        },
        {
          "output_type": "display_data",
          "data": {
            "text/plain": [
              "<Figure size 432x288 with 1 Axes>"
            ],
            "image/png": "[encoded data removed]"
          },
          "metadata": {
            "needs_background": "light"
          }
        }
      ]
    },
    {
      "cell_type": "code",
      "source": [
        "data['median_home_val'].hist()"
      ],
      "metadata": {
        "colab": {
          "base_uri": "https://localhost:8080/",
          "height": 282
        },
        "id": "rFiRlkTfQ98Z",
        "outputId": "2f1a00a5-0be6-4d6f-916e-f4d31d5cc801"
      },
      "execution_count": 16,
      "outputs": [
        {
          "output_type": "execute_result",
          "data": {
            "text/plain": [
              "<Axes: >"
            ]
          },
          "metadata": {},
          "execution_count": 16
        },
        {
          "output_type": "display_data",
          "data": {
            "text/plain": [
              "<Figure size 432x288 with 1 Axes>"
            ],
            "image/png": "[encoded data removed]"
          },
          "metadata": {
            "needs_background": "light"
          }
        }
      ]
    },
    {
      "cell_type": "code",
      "source": [
        "data['median_home_val'].hist(bins=20) \n",
        "#bins es el numero de divisiones en las barras, x default es 10\n",
        "# el numero usual a usar es entre 10 y 30\n",
        "#solo los DF tienen histogramas. las listas no"
      ],
      "metadata": {
        "colab": {
          "base_uri": "https://localhost:8080/",
          "height": 282
        },
        "id": "tbq-6U2Jmtg5",
        "outputId": "b6ad6d81-03e8-4a8d-fd83-fbd080186c7a"
      },
      "execution_count": 18,
      "outputs": [
        {
          "output_type": "execute_result",
          "data": {
            "text/plain": [
              "<Axes: >"
            ]
          },
          "metadata": {},
          "execution_count": 18
        },
        {
          "output_type": "display_data",
          "data": {
            "text/plain": [
              "<Figure size 432x288 with 1 Axes>"
            ],
            "image/png": "[encoded data removed]"
          },
          "metadata": {
            "needs_background": "light"
          }
        }
      ]
    },
    {
      "cell_type": "code",
      "source": [
        "# ahora la distribucion perop con sns\n",
        "sns.distplot(data['median_home_val'])"
      ],
      "metadata": {
        "colab": {
          "base_uri": "https://localhost:8080/",
          "height": 488
        },
        "id": "4YEqfdYDmzlr",
        "outputId": "48ab590b-6e4a-485d-9fea-7ab37365a460"
      },
      "execution_count": 21,
      "outputs": [
        {
          "output_type": "stream",
          "name": "stderr",
          "text": [
            "<ipython-input-21-301f14592865>:2: UserWarning: \n",
            "\n",
            "`distplot` is a deprecated function and will be removed in seaborn v0.14.0.\n",
            "\n",
            "Please adapt your code to use either `displot` (a figure-level function with\n",
            "similar flexibility) or `histplot` (an axes-level function for histograms).\n",
            "\n",
            "For a guide to updating your code to use the new functions, please see\n",
            "https://gist.github.com/mwaskom/de44147ed2974457ad6372750bbe5751\n",
            "\n",
            "  sns.distplot(data['median_home_val'])\n"
          ]
        },
        {
          "output_type": "execute_result",
          "data": {
            "text/plain": [
              "<Axes: xlabel='median_home_val', ylabel='Density'>"
            ]
          },
          "metadata": {},
          "execution_count": 21
        },
        {
          "output_type": "display_data",
          "data": {
            "text/plain": [
              "<Figure size 432x288 with 1 Axes>"
            ],
            "image/png": "[encoded data removed]"
          },
          "metadata": {
            "needs_background": "light"
          }
        }
      ]
    },
    {
      "cell_type": "code",
      "source": [
        "sns.distplot(data['ic2'])"
      ],
      "metadata": {
        "colab": {
          "base_uri": "https://localhost:8080/",
          "height": 487
        },
        "id": "RNHd7fY4nuDZ",
        "outputId": "b3bdc8fe-5bcf-4d3e-f5c1-38bf8ff9e715"
      },
      "execution_count": 22,
      "outputs": [
        {
          "output_type": "stream",
          "name": "stderr",
          "text": [
            "<ipython-input-22-4fe80b698260>:1: UserWarning: \n",
            "\n",
            "`distplot` is a deprecated function and will be removed in seaborn v0.14.0.\n",
            "\n",
            "Please adapt your code to use either `displot` (a figure-level function with\n",
            "similar flexibility) or `histplot` (an axes-level function for histograms).\n",
            "\n",
            "For a guide to updating your code to use the new functions, please see\n",
            "https://gist.github.com/mwaskom/de44147ed2974457ad6372750bbe5751\n",
            "\n",
            "  sns.distplot(data['ic2'])\n"
          ]
        },
        {
          "output_type": "execute_result",
          "data": {
            "text/plain": [
              "<Axes: xlabel='ic2', ylabel='Density'>"
            ]
          },
          "metadata": {},
          "execution_count": 22
        },
        {
          "output_type": "display_data",
          "data": {
            "text/plain": [
              "<Figure size 432x288 with 1 Axes>"
            ],
            "image/png": "[encoded data removed]"
          },
          "metadata": {
            "needs_background": "light"
          }
        }
      ]
    },
    {
      "cell_type": "code",
      "source": [
        "#donde c es codigo color y s es \n",
        "plt.scatter(x=data['ic2'], y=data['ic3'], c='b', s=3)\n",
        "plt.xlabel ('IC2')\n",
        "plt.ylabel ('IC3')\n",
        "plt.title ('Relacion entre IC2 e IC3')\n"
      ],
      "metadata": {
        "colab": {
          "base_uri": "https://localhost:8080/",
          "height": 312
        },
        "id": "7HKH8Ksmoxh1",
        "outputId": "ad8d8816-0e44-4da2-a0ca-fecc4655d5af"
      },
      "execution_count": 35,
      "outputs": [
        {
          "output_type": "execute_result",
          "data": {
            "text/plain": [
              "Text(0.5, 1.0, 'Relacion entre IC2 e IC3')"
            ]
          },
          "metadata": {},
          "execution_count": 35
        },
        {
          "output_type": "display_data",
          "data": {
            "text/plain": [
              "<Figure size 432x288 with 1 Axes>"
            ],
            "image/png": "[encoded data removed]"
          },
          "metadata": {
            "needs_background": "light"
          }
        }
      ]
    },
    {
      "cell_type": "code",
      "source": [
        "#grafica de caja , siempre lleva 2 corchetes\n",
        "data[['median_home_val']].boxplot()"
      ],
      "metadata": {
        "colab": {
          "base_uri": "https://localhost:8080/",
          "height": 283
        },
        "id": "Tzc8akeiqFmW",
        "outputId": "6f6a9951-3d78-4e10-95a3-579ac30ec58f"
      },
      "execution_count": 37,
      "outputs": [
        {
          "output_type": "execute_result",
          "data": {
            "text/plain": [
              "<Axes: >"
            ]
          },
          "metadata": {},
          "execution_count": 37
        },
        {
          "output_type": "display_data",
          "data": {
            "text/plain": [
              "<Figure size 432x288 with 1 Axes>"
            ],
            "image/png": "[encoded data removed]"
          },
          "metadata": {
            "needs_background": "light"
          }
        }
      ]
    },
    {
      "cell_type": "code",
      "source": [
        "sns.boxplot(y='median_home_val', data=data)"
      ],
      "metadata": {
        "colab": {
          "base_uri": "https://localhost:8080/",
          "height": 269
        },
        "id": "FvBe-7MFuSJg",
        "outputId": "f24d1dd7-aeed-455c-e1f3-5d0bfbf05f48"
      },
      "execution_count": 38,
      "outputs": [
        {
          "output_type": "execute_result",
          "data": {
            "text/plain": [
              "<Axes: ylabel='median_home_val'>"
            ]
          },
          "metadata": {},
          "execution_count": 38
        },
        {
          "output_type": "display_data",
          "data": {
            "text/plain": [
              "<Figure size 432x288 with 1 Axes>"
            ],
            "image/png": "[encoded data removed]"
          },
          "metadata": {
            "needs_background": "light"
          }
        }
      ]
    },
    {
      "cell_type": "code",
      "source": [
        "sns.barplot(x='gender', y='median_home_val', data=data)"
      ],
      "metadata": {
        "colab": {
          "base_uri": "https://localhost:8080/",
          "height": 296
        },
        "id": "I7WAwLC7yHOv",
        "outputId": "24dc9672-288e-4408-c4d4-e3b62bb3052b"
      },
      "execution_count": 40,
      "outputs": [
        {
          "output_type": "execute_result",
          "data": {
            "text/plain": [
              "<Axes: xlabel='gender', ylabel='median_home_val'>"
            ]
          },
          "metadata": {},
          "execution_count": 40
        },
        {
          "output_type": "display_data",
          "data": {
            "text/plain": [
              "<Figure size 432x288 with 1 Axes>"
            ],
            "image/png": "[encoded data removed]"
          },
          "metadata": {
            "needs_background": "light"
          }
        }
      ]
    },
    {
      "cell_type": "code",
      "source": [
        "sns.barplot(y='state',x='median_home_val', data=data)"
      ],
      "metadata": {
        "colab": {
          "base_uri": "https://localhost:8080/",
          "height": 299
        },
        "id": "5cpnDvJUyrDP",
        "outputId": "21f9152f-050a-4231-b468-8287a7442245"
      },
      "execution_count": 41,
      "outputs": [
        {
          "output_type": "execute_result",
          "data": {
            "text/plain": [
              "<Axes: xlabel='median_home_val', ylabel='state'>"
            ]
          },
          "metadata": {},
          "execution_count": 41
        },
        {
          "output_type": "display_data",
          "data": {
            "text/plain": [
              "<Figure size 432x288 with 1 Axes>"
            ],
            "image/png": "[encoded data removed]"
          },
          "metadata": {
            "needs_background": "light"
          }
        }
      ]
    },
    {
      "cell_type": "code",
      "source": [
        "plt.figure(figsize=(16,16)) #mete dimension al grafico\n",
        "sns.barplot(y='state',x='median_home_val', data=data)"
      ],
      "metadata": {
        "colab": {
          "base_uri": "https://localhost:8080/",
          "height": 796
        },
        "id": "eKtcagsgzVtf",
        "outputId": "7a91e1d5-41e8-445c-864a-a32292a3bd71"
      },
      "execution_count": 43,
      "outputs": [
        {
          "output_type": "execute_result",
          "data": {
            "text/plain": [
              "<Axes: xlabel='median_home_val', ylabel='state'>"
            ]
          },
          "metadata": {},
          "execution_count": 43
        },
        {
          "output_type": "display_data",
          "data": {
            "text/plain": [
              "<Figure size 1152x1152 with 1 Axes>"
            ],
            "image/png": "[encoded data removed]"
          },
          "metadata": {
            "needs_background": "light"
          }
        }
      ]
    },
    {
      "cell_type": "code",
      "source": [
        "plt.figure(figsize=(16,46)) #hue da gama de colores al separar dentro de cada estado por genero\n",
        "sns.barplot(y='state',x='median_home_val', data=data, hue='gender')"
      ],
      "metadata": {
        "colab": {
          "base_uri": "https://localhost:8080/",
          "height": 1000
        },
        "id": "X6ltnjgrzdVB",
        "outputId": "d521fdbc-2973-4a8e-a55c-c6baabe922d3"
      },
      "execution_count": 44,
      "outputs": [
        {
          "output_type": "execute_result",
          "data": {
            "text/plain": [
              "<Axes: xlabel='median_home_val', ylabel='state'>"
            ]
          },
          "metadata": {},
          "execution_count": 44
        },
        {
          "output_type": "display_data",
          "data": {
            "text/plain": [
              "<Figure size 1152x3312 with 1 Axes>"
            ],
            "image/png": "[encoded data removed]"
          },
          "metadata": {
            "needs_background": "light"
          }
        }
      ]
    },
    {
      "cell_type": "code",
      "source": [
        "#correlacion\n",
        "#nos dice que tan fuerte esta relacionada una variable con relacion a otra\n",
        "#si ambas suben es una correlacion positiva\n",
        "#si una crece la otra decrece, es inversamente proporcional. es negativa\n",
        "# hay 3 tipos de correlaciones \n",
        "# la fuerza de relacion entre 2 variables\n"
      ],
      "metadata": {
        "id": "WZaGscpZzdTB"
      },
      "execution_count": null,
      "outputs": []
    },
    {
      "cell_type": "code",
      "source": [
        "plt.scatter(x=data['ic2'], y=data['ic3'])"
      ],
      "metadata": {
        "colab": {
          "base_uri": "https://localhost:8080/",
          "height": 282
        },
        "id": "-s-AkDY2zdQo",
        "outputId": "9eacf24c-c2c4-4149-b744-09b56e8211e2"
      },
      "execution_count": 46,
      "outputs": [
        {
          "output_type": "execute_result",
          "data": {
            "text/plain": [
              "<matplotlib.collections.PathCollection at 0x7f3cab7e8c40>"
            ]
          },
          "metadata": {},
          "execution_count": 46
        },
        {
          "output_type": "display_data",
          "data": {
            "text/plain": [
              "<Figure size 432x288 with 1 Axes>"
            ],
            "image/png": "[encoded data removed]"
          },
          "metadata": {
            "needs_background": "light"
          }
        }
      ]
    },
    {
      "cell_type": "code",
      "source": [
        "#biblioteca SciPy tiene entre otros estadisticas avanzadas"
      ],
      "metadata": {
        "id": "yLZNB5HvzdMo"
      },
      "execution_count": null,
      "outputs": []
    },
    {
      "cell_type": "code",
      "source": [
        "import scipy.stats as stats"
      ],
      "metadata": {
        "id": "dIp5stJQzdCs"
      },
      "execution_count": 47,
      "outputs": []
    },
    {
      "cell_type": "code",
      "source": [
        "stats.pearsonr(data['ic2'],data['ic3'])"
      ],
      "metadata": {
        "colab": {
          "base_uri": "https://localhost:8080/"
        },
        "id": "RP_EoHrw_J7h",
        "outputId": "96916bb6-282d-4e67-e998-410256b6c405"
      },
      "execution_count": 50,
      "outputs": [
        {
          "output_type": "execute_result",
          "data": {
            "text/plain": [
              "PearsonRResult(statistic=0.953585340329417, pvalue=0.0)"
            ]
          },
          "metadata": {},
          "execution_count": 50
        }
      ]
    },
    {
      "cell_type": "code",
      "source": [
        "stats.spearmanr(data['ic2'],data['ic3'])"
      ],
      "metadata": {
        "colab": {
          "base_uri": "https://localhost:8080/"
        },
        "id": "hCII13PUWcbv",
        "outputId": "ba214b7b-79b2-4fda-bee5-0f226f1b78d5"
      },
      "execution_count": 54,
      "outputs": [
        {
          "output_type": "execute_result",
          "data": {
            "text/plain": [
              "SignificanceResult(statistic=0.9510617375454639, pvalue=0.0)"
            ]
          },
          "metadata": {},
          "execution_count": 54
        }
      ]
    },
    {
      "cell_type": "code",
      "source": [
        "plt.scatter(x=data['median_home_val'], y=data['ic3'])"
      ],
      "metadata": {
        "colab": {
          "base_uri": "https://localhost:8080/",
          "height": 282
        },
        "id": "4Ig0229L_dbg",
        "outputId": "78f950ee-5db1-4939-f6b9-81938061e33c"
      },
      "execution_count": 51,
      "outputs": [
        {
          "output_type": "execute_result",
          "data": {
            "text/plain": [
              "<matplotlib.collections.PathCollection at 0x7f3cac0e3f10>"
            ]
          },
          "metadata": {},
          "execution_count": 51
        },
        {
          "output_type": "display_data",
          "data": {
            "text/plain": [
              "<Figure size 432x288 with 1 Axes>"
            ],
            "image/png": "[encoded data removed]"
          },
          "metadata": {
            "needs_background": "light"
          }
        }
      ]
    },
    {
      "cell_type": "code",
      "source": [
        "stats.pearsonr(data['median_home_val'],data['ic3'])"
      ],
      "metadata": {
        "colab": {
          "base_uri": "https://localhost:8080/"
        },
        "id": "lXXJihpsVsdK",
        "outputId": "5f722bb4-b457-410d-b56d-e9b76bd81771"
      },
      "execution_count": 52,
      "outputs": [
        {
          "output_type": "execute_result",
          "data": {
            "text/plain": [
              "PearsonRResult(statistic=0.7345260812776713, pvalue=0.0)"
            ]
          },
          "metadata": {},
          "execution_count": 52
        }
      ]
    },
    {
      "cell_type": "code",
      "source": [
        "stats.spearmanr(data['median_home_val'],data['ic3'])"
      ],
      "metadata": {
        "colab": {
          "base_uri": "https://localhost:8080/"
        },
        "id": "mGjXxCv_V6Ji",
        "outputId": "07a8ba81-7b90-4bd2-e1fe-78336fe4ddf4"
      },
      "execution_count": 53,
      "outputs": [
        {
          "output_type": "execute_result",
          "data": {
            "text/plain": [
              "SignificanceResult(statistic=0.7723649710464808, pvalue=0.0)"
            ]
          },
          "metadata": {},
          "execution_count": 53
        }
      ]
    },
    {
      "cell_type": "code",
      "source": [
        "#una grafica para ver todas las correlaciones al mismo tiempo\n",
        "#primero filtramos en el df lo que no es numerico\n",
        "corr_data=data.drop(['gender','state'],axis=1)\n",
        "corr_data"
      ],
      "metadata": {
        "colab": {
          "base_uri": "https://localhost:8080/",
          "height": 468
        },
        "id": "nJvk6pASWOUe",
        "outputId": "84a60929-f542-4e1d-cdc5-770a00b21367"
      },
      "execution_count": 57,
      "outputs": [
        {
          "output_type": "execute_result",
          "data": {
            "text/plain": [
              "          id  median_home_val  median_household_income  ic2  ic3  ic4    ic5  \\\n",
              "0      44060      1158.437751                      392  430  466  520  21975   \n",
              "1      96093       537.000000                      365  415  410  473  19387   \n",
              "2      43333       725.000000                      301  340  361  436  18837   \n",
              "3      21885      1158.437751                      401  407  399  413  14014   \n",
              "4     190108       995.000000                      252  280  316  348  17991   \n",
              "...      ...              ...                      ...  ...  ...  ...    ...   \n",
              "3988   66762       632.000000                      279  336  339  388  12653   \n",
              "3989    6443       595.000000                      252  263  262  274  11132   \n",
              "3990  151175      2707.000000                      507  504  538  537  16165   \n",
              "3991  151504      2666.000000                      535  609  612  653  24745   \n",
              "3992   74303       444.000000                      225  264  269  299  10088   \n",
              "\n",
              "        avggift  target_d  \n",
              "0     28.000000     100.0  \n",
              "1      5.666667       7.0  \n",
              "2      4.111111       5.0  \n",
              "3     27.277778      38.0  \n",
              "4      6.000000       5.0  \n",
              "...         ...       ...  \n",
              "3988   8.533333       5.0  \n",
              "3989  14.692308      20.0  \n",
              "3990  12.117647      22.0  \n",
              "3991  12.333333      21.0  \n",
              "3992  17.142857      25.0  \n",
              "\n",
              "[3993 rows x 9 columns]"
            ],
            "text/html": [
              "\n",
              "  <div id=\"df-6ee197f0-ca4f-4d02-ac16-ab5fba1eb403\">\n",
              "    <div class=\"colab-df-container\">\n",
              "      <div>\n",
              "<style scoped>\n",
              "    .dataframe tbody tr th:only-of-type {\n",
              "        vertical-align: middle;\n",
              "    }\n",
              "\n",
              "    .dataframe tbody tr th {\n",
              "        vertical-align: top;\n",
              "    }\n",
              "\n",
              "    .dataframe thead th {\n",
              "        text-align: right;\n",
              "    }\n",
              "</style>\n",
              "<table border=\"1\" class=\"dataframe\">\n",
              "  <thead>\n",
              "    <tr style=\"text-align: right;\">\n",
              "      <th></th>\n",
              "      <th>id</th>\n",
              "      <th>median_home_val</th>\n",
              "      <th>median_household_income</th>\n",
              "      <th>ic2</th>\n",
              "      <th>ic3</th>\n",
              "      <th>ic4</th>\n",
              "      <th>ic5</th>\n",
              "      <th>avggift</th>\n",
              "      <th>target_d</th>\n",
              "    </tr>\n",
              "  </thead>\n",
              "  <tbody>\n",
              "    <tr>\n",
              "      <th>0</th>\n",
              "      <td>44060</td>\n",
              "      <td>1158.437751</td>\n",
              "      <td>392</td>\n",
              "      <td>430</td>\n",
              "      <td>466</td>\n",
              "      <td>520</td>\n",
              "      <td>21975</td>\n",
              "      <td>28.000000</td>\n",
              "      <td>100.0</td>\n",
              "    </tr>\n",
              "    <tr>\n",
              "      <th>1</th>\n",
              "      <td>96093</td>\n",
              "      <td>537.000000</td>\n",
              "      <td>365</td>\n",
              "      <td>415</td>\n",
              "      <td>410</td>\n",
              "      <td>473</td>\n",
              "      <td>19387</td>\n",
              "      <td>5.666667</td>\n",
              "      <td>7.0</td>\n",
              "    </tr>\n",
              "    <tr>\n",
              "      <th>2</th>\n",
              "      <td>43333</td>\n",
              "      <td>725.000000</td>\n",
              "      <td>301</td>\n",
              "      <td>340</td>\n",
              "      <td>361</td>\n",
              "      <td>436</td>\n",
              "      <td>18837</td>\n",
              "      <td>4.111111</td>\n",
              "      <td>5.0</td>\n",
              "    </tr>\n",
              "    <tr>\n",
              "      <th>3</th>\n",
              "      <td>21885</td>\n",
              "      <td>1158.437751</td>\n",
              "      <td>401</td>\n",
              "      <td>407</td>\n",
              "      <td>399</td>\n",
              "      <td>413</td>\n",
              "      <td>14014</td>\n",
              "      <td>27.277778</td>\n",
              "      <td>38.0</td>\n",
              "    </tr>\n",
              "    <tr>\n",
              "      <th>4</th>\n",
              "      <td>190108</td>\n",
              "      <td>995.000000</td>\n",
              "      <td>252</td>\n",
              "      <td>280</td>\n",
              "      <td>316</td>\n",
              "      <td>348</td>\n",
              "      <td>17991</td>\n",
              "      <td>6.000000</td>\n",
              "      <td>5.0</td>\n",
              "    </tr>\n",
              "    <tr>\n",
              "      <th>...</th>\n",
              "      <td>...</td>\n",
              "      <td>...</td>\n",
              "      <td>...</td>\n",
              "      <td>...</td>\n",
              "      <td>...</td>\n",
              "      <td>...</td>\n",
              "      <td>...</td>\n",
              "      <td>...</td>\n",
              "      <td>...</td>\n",
              "    </tr>\n",
              "    <tr>\n",
              "      <th>3988</th>\n",
              "      <td>66762</td>\n",
              "      <td>632.000000</td>\n",
              "      <td>279</td>\n",
              "      <td>336</td>\n",
              "      <td>339</td>\n",
              "      <td>388</td>\n",
              "      <td>12653</td>\n",
              "      <td>8.533333</td>\n",
              "      <td>5.0</td>\n",
              "    </tr>\n",
              "    <tr>\n",
              "      <th>3989</th>\n",
              "      <td>6443</td>\n",
              "      <td>595.000000</td>\n",
              "      <td>252</td>\n",
              "      <td>263</td>\n",
              "      <td>262</td>\n",
              "      <td>274</td>\n",
              "      <td>11132</td>\n",
              "      <td>14.692308</td>\n",
              "      <td>20.0</td>\n",
              "    </tr>\n",
              "    <tr>\n",
              "      <th>3990</th>\n",
              "      <td>151175</td>\n",
              "      <td>2707.000000</td>\n",
              "      <td>507</td>\n",
              "      <td>504</td>\n",
              "      <td>538</td>\n",
              "      <td>537</td>\n",
              "      <td>16165</td>\n",
              "      <td>12.117647</td>\n",
              "      <td>22.0</td>\n",
              "    </tr>\n",
              "    <tr>\n",
              "      <th>3991</th>\n",
              "      <td>151504</td>\n",
              "      <td>2666.000000</td>\n",
              "      <td>535</td>\n",
              "      <td>609</td>\n",
              "      <td>612</td>\n",
              "      <td>653</td>\n",
              "      <td>24745</td>\n",
              "      <td>12.333333</td>\n",
              "      <td>21.0</td>\n",
              "    </tr>\n",
              "    <tr>\n",
              "      <th>3992</th>\n",
              "      <td>74303</td>\n",
              "      <td>444.000000</td>\n",
              "      <td>225</td>\n",
              "      <td>264</td>\n",
              "      <td>269</td>\n",
              "      <td>299</td>\n",
              "      <td>10088</td>\n",
              "      <td>17.142857</td>\n",
              "      <td>25.0</td>\n",
              "    </tr>\n",
              "  </tbody>\n",
              "</table>\n",
              "<p>3993 rows × 9 columns</p>\n",
              "</div>\n",
              "      <button class=\"colab-df-convert\" onclick=\"convertToInteractive('df-6ee197f0-ca4f-4d02-ac16-ab5fba1eb403')\"\n",
              "              title=\"Convert this dataframe to an interactive table.\"\n",
              "              style=\"display:none;\">\n",
              "        \n",
              "  <svg xmlns=\"http://www.w3.org/2000/svg\" height=\"24px\"viewBox=\"0 0 24 24\"\n",
              "       width=\"24px\">\n",
              "    <path d=\"M0 0h24v24H0V0z\" fill=\"none\"/>\n",
              "    <path d=\"M18.56 5.44l.94 2.06.94-2.06 2.06-.94-2.06-.94-.94-2.06-.94 2.06-2.06.94zm-11 1L8.5 8.5l.94-2.06 2.06-.94-2.06-.94L8.5 2.5l-.94 2.06-2.06.94zm10 10l.94 2.06.94-2.06 2.06-.94-2.06-.94-.94-2.06-.94 2.06-2.06.94z\"/><path d=\"M17.41 7.96l-1.37-1.37c-.4-.4-.92-.59-1.43-.59-.52 0-1.04.2-1.43.59L10.3 9.45l-7.72 7.72c-.78.78-.78 2.05 0 2.83L4 21.41c.39.39.9.59 1.41.59.51 0 1.02-.2 1.41-.59l7.78-7.78 2.81-2.81c.8-.78.8-2.07 0-2.86zM5.41 20L4 18.59l7.72-7.72 1.47 1.35L5.41 20z\"/>\n",
              "  </svg>\n",
              "      </button>\n",
              "      \n",
              "  <style>\n",
              "    .colab-df-container {\n",
              "      display:flex;\n",
              "      flex-wrap:wrap;\n",
              "      gap: 12px;\n",
              "    }\n",
              "\n",
              "    .colab-df-convert {\n",
              "      background-color: #E8F0FE;\n",
              "      border: none;\n",
              "      border-radius: 50%;\n",
              "      cursor: pointer;\n",
              "      display: none;\n",
              "      fill: #1967D2;\n",
              "      height: 32px;\n",
              "      padding: 0 0 0 0;\n",
              "      width: 32px;\n",
              "    }\n",
              "\n",
              "    .colab-df-convert:hover {\n",
              "      background-color: #E2EBFA;\n",
              "      box-shadow: 0px 1px 2px rgba(60, 64, 67, 0.3), 0px 1px 3px 1px rgba(60, 64, 67, 0.15);\n",
              "      fill: #174EA6;\n",
              "    }\n",
              "\n",
              "    [theme=dark] .colab-df-convert {\n",
              "      background-color: #3B4455;\n",
              "      fill: #D2E3FC;\n",
              "    }\n",
              "\n",
              "    [theme=dark] .colab-df-convert:hover {\n",
              "      background-color: #434B5C;\n",
              "      box-shadow: 0px 1px 3px 1px rgba(0, 0, 0, 0.15);\n",
              "      filter: drop-shadow(0px 1px 2px rgba(0, 0, 0, 0.3));\n",
              "      fill: #FFFFFF;\n",
              "    }\n",
              "  </style>\n",
              "\n",
              "      <script>\n",
              "        const buttonEl =\n",
              "          document.querySelector('#df-6ee197f0-ca4f-4d02-ac16-ab5fba1eb403 button.colab-df-convert');\n",
              "        buttonEl.style.display =\n",
              "          google.colab.kernel.accessAllowed ? 'block' : 'none';\n",
              "\n",
              "        async function convertToInteractive(key) {\n",
              "          const element = document.querySelector('#df-6ee197f0-ca4f-4d02-ac16-ab5fba1eb403');\n",
              "          const dataTable =\n",
              "            await google.colab.kernel.invokeFunction('convertToInteractive',\n",
              "                                                     [key], {});\n",
              "          if (!dataTable) return;\n",
              "\n",
              "          const docLinkHtml = 'Like what you see? Visit the ' +\n",
              "            '<a target=\"_blank\" href=https://colab.research.google.com/notebooks/data_table.ipynb>data table notebook</a>'\n",
              "            + ' to learn more about interactive tables.';\n",
              "          element.innerHTML = '';\n",
              "          dataTable['output_type'] = 'display_data';\n",
              "          await google.colab.output.renderOutput(dataTable, element);\n",
              "          const docLink = document.createElement('div');\n",
              "          docLink.innerHTML = docLinkHtml;\n",
              "          element.appendChild(docLink);\n",
              "        }\n",
              "      </script>\n",
              "    </div>\n",
              "  </div>\n",
              "  "
            ]
          },
          "metadata": {},
          "execution_count": 57
        }
      ]
    },
    {
      "cell_type": "code",
      "source": [
        "correlation_matrix=corr_data.corr()\n",
        "correlation_matrix"
      ],
      "metadata": {
        "colab": {
          "base_uri": "https://localhost:8080/",
          "height": 396
        },
        "id": "YWSxoExkZ8v_",
        "outputId": "fc2953db-212e-4b7a-8f4e-d87d864d3159"
      },
      "execution_count": 60,
      "outputs": [
        {
          "output_type": "execute_result",
          "data": {
            "text/plain": [
              "                               id  median_home_val  median_household_income  \\\n",
              "id                       1.000000         0.249922                 0.099182   \n",
              "median_home_val          0.249922         1.000000                 0.707209   \n",
              "median_household_income  0.099182         0.707209                 1.000000   \n",
              "ic2                      0.092586         0.743318                 0.951409   \n",
              "ic3                      0.105039         0.734526                 0.974777   \n",
              "ic4                      0.098233         0.748761                 0.928980   \n",
              "ic5                      0.072773         0.745223                 0.805221   \n",
              "avggift                 -0.004794         0.138966                 0.120445   \n",
              "target_d                 0.028057         0.116805                 0.113246   \n",
              "\n",
              "                              ic2       ic3       ic4       ic5   avggift  \\\n",
              "id                       0.092586  0.105039  0.098233  0.072773 -0.004794   \n",
              "median_home_val          0.743318  0.734526  0.748761  0.745223  0.138966   \n",
              "median_household_income  0.951409  0.974777  0.928980  0.805221  0.120445   \n",
              "ic2                      1.000000  0.953585  0.971498  0.874783  0.136096   \n",
              "ic3                      0.953585  1.000000  0.971909  0.827514  0.125438   \n",
              "ic4                      0.971498  0.971909  1.000000  0.868411  0.132438   \n",
              "ic5                      0.874783  0.827514  0.868411  1.000000  0.141580   \n",
              "avggift                  0.136096  0.125438  0.132438  0.141580  1.000000   \n",
              "target_d                 0.129964  0.121965  0.131260  0.137878  0.487595   \n",
              "\n",
              "                         target_d  \n",
              "id                       0.028057  \n",
              "median_home_val          0.116805  \n",
              "median_household_income  0.113246  \n",
              "ic2                      0.129964  \n",
              "ic3                      0.121965  \n",
              "ic4                      0.131260  \n",
              "ic5                      0.137878  \n",
              "avggift                  0.487595  \n",
              "target_d                 1.000000  "
            ],
            "text/html": [
              "\n",
              "  <div id=\"df-f8913a82-a80f-4749-8473-c48b177ae0cb\">\n",
              "    <div class=\"colab-df-container\">\n",
              "      <div>\n",
              "<style scoped>\n",
              "    .dataframe tbody tr th:only-of-type {\n",
              "        vertical-align: middle;\n",
              "    }\n",
              "\n",
              "    .dataframe tbody tr th {\n",
              "        vertical-align: top;\n",
              "    }\n",
              "\n",
              "    .dataframe thead th {\n",
              "        text-align: right;\n",
              "    }\n",
              "</style>\n",
              "<table border=\"1\" class=\"dataframe\">\n",
              "  <thead>\n",
              "    <tr style=\"text-align: right;\">\n",
              "      <th></th>\n",
              "      <th>id</th>\n",
              "      <th>median_home_val</th>\n",
              "      <th>median_household_income</th>\n",
              "      <th>ic2</th>\n",
              "      <th>ic3</th>\n",
              "      <th>ic4</th>\n",
              "      <th>ic5</th>\n",
              "      <th>avggift</th>\n",
              "      <th>target_d</th>\n",
              "    </tr>\n",
              "  </thead>\n",
              "  <tbody>\n",
              "    <tr>\n",
              "      <th>id</th>\n",
              "      <td>1.000000</td>\n",
              "      <td>0.249922</td>\n",
              "      <td>0.099182</td>\n",
              "      <td>0.092586</td>\n",
              "      <td>0.105039</td>\n",
              "      <td>0.098233</td>\n",
              "      <td>0.072773</td>\n",
              "      <td>-0.004794</td>\n",
              "      <td>0.028057</td>\n",
              "    </tr>\n",
              "    <tr>\n",
              "      <th>median_home_val</th>\n",
              "      <td>0.249922</td>\n",
              "      <td>1.000000</td>\n",
              "      <td>0.707209</td>\n",
              "      <td>0.743318</td>\n",
              "      <td>0.734526</td>\n",
              "      <td>0.748761</td>\n",
              "      <td>0.745223</td>\n",
              "      <td>0.138966</td>\n",
              "      <td>0.116805</td>\n",
              "    </tr>\n",
              "    <tr>\n",
              "      <th>median_household_income</th>\n",
              "      <td>0.099182</td>\n",
              "      <td>0.707209</td>\n",
              "      <td>1.000000</td>\n",
              "      <td>0.951409</td>\n",
              "      <td>0.974777</td>\n",
              "      <td>0.928980</td>\n",
              "      <td>0.805221</td>\n",
              "      <td>0.120445</td>\n",
              "      <td>0.113246</td>\n",
              "    </tr>\n",
              "    <tr>\n",
              "      <th>ic2</th>\n",
              "      <td>0.092586</td>\n",
              "      <td>0.743318</td>\n",
              "      <td>0.951409</td>\n",
              "      <td>1.000000</td>\n",
              "      <td>0.953585</td>\n",
              "      <td>0.971498</td>\n",
              "      <td>0.874783</td>\n",
              "      <td>0.136096</td>\n",
              "      <td>0.129964</td>\n",
              "    </tr>\n",
              "    <tr>\n",
              "      <th>ic3</th>\n",
              "      <td>0.105039</td>\n",
              "      <td>0.734526</td>\n",
              "      <td>0.974777</td>\n",
              "      <td>0.953585</td>\n",
              "      <td>1.000000</td>\n",
              "      <td>0.971909</td>\n",
              "      <td>0.827514</td>\n",
              "      <td>0.125438</td>\n",
              "      <td>0.121965</td>\n",
              "    </tr>\n",
              "    <tr>\n",
              "      <th>ic4</th>\n",
              "      <td>0.098233</td>\n",
              "      <td>0.748761</td>\n",
              "      <td>0.928980</td>\n",
              "      <td>0.971498</td>\n",
              "      <td>0.971909</td>\n",
              "      <td>1.000000</td>\n",
              "      <td>0.868411</td>\n",
              "      <td>0.132438</td>\n",
              "      <td>0.131260</td>\n",
              "    </tr>\n",
              "    <tr>\n",
              "      <th>ic5</th>\n",
              "      <td>0.072773</td>\n",
              "      <td>0.745223</td>\n",
              "      <td>0.805221</td>\n",
              "      <td>0.874783</td>\n",
              "      <td>0.827514</td>\n",
              "      <td>0.868411</td>\n",
              "      <td>1.000000</td>\n",
              "      <td>0.141580</td>\n",
              "      <td>0.137878</td>\n",
              "    </tr>\n",
              "    <tr>\n",
              "      <th>avggift</th>\n",
              "      <td>-0.004794</td>\n",
              "      <td>0.138966</td>\n",
              "      <td>0.120445</td>\n",
              "      <td>0.136096</td>\n",
              "      <td>0.125438</td>\n",
              "      <td>0.132438</td>\n",
              "      <td>0.141580</td>\n",
              "      <td>1.000000</td>\n",
              "      <td>0.487595</td>\n",
              "    </tr>\n",
              "    <tr>\n",
              "      <th>target_d</th>\n",
              "      <td>0.028057</td>\n",
              "      <td>0.116805</td>\n",
              "      <td>0.113246</td>\n",
              "      <td>0.129964</td>\n",
              "      <td>0.121965</td>\n",
              "      <td>0.131260</td>\n",
              "      <td>0.137878</td>\n",
              "      <td>0.487595</td>\n",
              "      <td>1.000000</td>\n",
              "    </tr>\n",
              "  </tbody>\n",
              "</table>\n",
              "</div>\n",
              "      <button class=\"colab-df-convert\" onclick=\"convertToInteractive('df-f8913a82-a80f-4749-8473-c48b177ae0cb')\"\n",
              "              title=\"Convert this dataframe to an interactive table.\"\n",
              "              style=\"display:none;\">\n",
              "        \n",
              "  <svg xmlns=\"http://www.w3.org/2000/svg\" height=\"24px\"viewBox=\"0 0 24 24\"\n",
              "       width=\"24px\">\n",
              "    <path d=\"M0 0h24v24H0V0z\" fill=\"none\"/>\n",
              "    <path d=\"M18.56 5.44l.94 2.06.94-2.06 2.06-.94-2.06-.94-.94-2.06-.94 2.06-2.06.94zm-11 1L8.5 8.5l.94-2.06 2.06-.94-2.06-.94L8.5 2.5l-.94 2.06-2.06.94zm10 10l.94 2.06.94-2.06 2.06-.94-2.06-.94-.94-2.06-.94 2.06-2.06.94z\"/><path d=\"M17.41 7.96l-1.37-1.37c-.4-.4-.92-.59-1.43-.59-.52 0-1.04.2-1.43.59L10.3 9.45l-7.72 7.72c-.78.78-.78 2.05 0 2.83L4 21.41c.39.39.9.59 1.41.59.51 0 1.02-.2 1.41-.59l7.78-7.78 2.81-2.81c.8-.78.8-2.07 0-2.86zM5.41 20L4 18.59l7.72-7.72 1.47 1.35L5.41 20z\"/>\n",
              "  </svg>\n",
              "      </button>\n",
              "      \n",
              "  <style>\n",
              "    .colab-df-container {\n",
              "      display:flex;\n",
              "      flex-wrap:wrap;\n",
              "      gap: 12px;\n",
              "    }\n",
              "\n",
              "    .colab-df-convert {\n",
              "      background-color: #E8F0FE;\n",
              "      border: none;\n",
              "      border-radius: 50%;\n",
              "      cursor: pointer;\n",
              "      display: none;\n",
              "      fill: #1967D2;\n",
              "      height: 32px;\n",
              "      padding: 0 0 0 0;\n",
              "      width: 32px;\n",
              "    }\n",
              "\n",
              "    .colab-df-convert:hover {\n",
              "      background-color: #E2EBFA;\n",
              "      box-shadow: 0px 1px 2px rgba(60, 64, 67, 0.3), 0px 1px 3px 1px rgba(60, 64, 67, 0.15);\n",
              "      fill: #174EA6;\n",
              "    }\n",
              "\n",
              "    [theme=dark] .colab-df-convert {\n",
              "      background-color: #3B4455;\n",
              "      fill: #D2E3FC;\n",
              "    }\n",
              "\n",
              "    [theme=dark] .colab-df-convert:hover {\n",
              "      background-color: #434B5C;\n",
              "      box-shadow: 0px 1px 3px 1px rgba(0, 0, 0, 0.15);\n",
              "      filter: drop-shadow(0px 1px 2px rgba(0, 0, 0, 0.3));\n",
              "      fill: #FFFFFF;\n",
              "    }\n",
              "  </style>\n",
              "\n",
              "      <script>\n",
              "        const buttonEl =\n",
              "          document.querySelector('#df-f8913a82-a80f-4749-8473-c48b177ae0cb button.colab-df-convert');\n",
              "        buttonEl.style.display =\n",
              "          google.colab.kernel.accessAllowed ? 'block' : 'none';\n",
              "\n",
              "        async function convertToInteractive(key) {\n",
              "          const element = document.querySelector('#df-f8913a82-a80f-4749-8473-c48b177ae0cb');\n",
              "          const dataTable =\n",
              "            await google.colab.kernel.invokeFunction('convertToInteractive',\n",
              "                                                     [key], {});\n",
              "          if (!dataTable) return;\n",
              "\n",
              "          const docLinkHtml = 'Like what you see? Visit the ' +\n",
              "            '<a target=\"_blank\" href=https://colab.research.google.com/notebooks/data_table.ipynb>data table notebook</a>'\n",
              "            + ' to learn more about interactive tables.';\n",
              "          element.innerHTML = '';\n",
              "          dataTable['output_type'] = 'display_data';\n",
              "          await google.colab.output.renderOutput(dataTable, element);\n",
              "          const docLink = document.createElement('div');\n",
              "          docLink.innerHTML = docLinkHtml;\n",
              "          element.appendChild(docLink);\n",
              "        }\n",
              "      </script>\n",
              "    </div>\n",
              "  </div>\n",
              "  "
            ]
          },
          "metadata": {},
          "execution_count": 60
        }
      ]
    },
    {
      "cell_type": "code",
      "source": [],
      "metadata": {
        "id": "0d7wqxYhbQkf"
      },
      "execution_count": null,
      "outputs": []
    },
    {
      "cell_type": "code",
      "source": [
        "#mapa de calor\n",
        "sns.heatmap(correlation_matrix)"
      ],
      "metadata": {
        "colab": {
          "base_uri": "https://localhost:8080/",
          "height": 412
        },
        "id": "AdoMJSE4bvKb",
        "outputId": "d81105aa-8012-44cf-b9c7-87c3b53e15ca"
      },
      "execution_count": 61,
      "outputs": [
        {
          "output_type": "execute_result",
          "data": {
            "text/plain": [
              "<Axes: >"
            ]
          },
          "metadata": {},
          "execution_count": 61
        },
        {
          "output_type": "display_data",
          "data": {
            "text/plain": [
              "<Figure size 432x288 with 2 Axes>"
            ],
            "image/png": "[encoded data removed]"
          },
          "metadata": {
            "needs_background": "light"
          }
        }
      ]
    },
    {
      "cell_type": "code",
      "source": [
        "sns.heatmap(correlation_matrix,annot=True)"
      ],
      "metadata": {
        "colab": {
          "base_uri": "https://localhost:8080/",
          "height": 412
        },
        "id": "khR7pgPBbu-e",
        "outputId": "8fd5c6ee-7b3e-420f-9952-8a1b0c2006cc"
      },
      "execution_count": 62,
      "outputs": [
        {
          "output_type": "execute_result",
          "data": {
            "text/plain": [
              "<Axes: >"
            ]
          },
          "metadata": {},
          "execution_count": 62
        },
        {
          "output_type": "display_data",
          "data": {
            "text/plain": [
              "<Figure size 432x288 with 2 Axes>"
            ],
            "image/png": "[encoded data removed]"
          },
          "metadata": {
            "needs_background": "light"
          }
        }
      ]
    },
    {
      "cell_type": "code",
      "source": [
        "np.zeros_like(correlation_matrix)"
      ],
      "metadata": {
        "colab": {
          "base_uri": "https://localhost:8080/"
        },
        "id": "BbRrg7UxfzN8",
        "outputId": "7cdd5a0b-2b3d-4c5a-8354-17c579681858"
      },
      "execution_count": 63,
      "outputs": [
        {
          "output_type": "execute_result",
          "data": {
            "text/plain": [
              "array([[0., 0., 0., 0., 0., 0., 0., 0., 0.],\n",
              "       [0., 0., 0., 0., 0., 0., 0., 0., 0.],\n",
              "       [0., 0., 0., 0., 0., 0., 0., 0., 0.],\n",
              "       [0., 0., 0., 0., 0., 0., 0., 0., 0.],\n",
              "       [0., 0., 0., 0., 0., 0., 0., 0., 0.],\n",
              "       [0., 0., 0., 0., 0., 0., 0., 0., 0.],\n",
              "       [0., 0., 0., 0., 0., 0., 0., 0., 0.],\n",
              "       [0., 0., 0., 0., 0., 0., 0., 0., 0.],\n",
              "       [0., 0., 0., 0., 0., 0., 0., 0., 0.]])"
            ]
          },
          "metadata": {},
          "execution_count": 63
        }
      ]
    },
    {
      "cell_type": "code",
      "source": [],
      "metadata": {
        "id": "RoX2sKFQfzKy"
      },
      "execution_count": null,
      "outputs": []
    },
    {
      "cell_type": "code",
      "source": [],
      "metadata": {
        "id": "s5UGqXbcfzFS"
      },
      "execution_count": null,
      "outputs": []
    },
    {
      "cell_type": "code",
      "source": [],
      "metadata": {
        "id": "t7j2kD74fy6e"
      },
      "execution_count": null,
      "outputs": []
    },
    {
      "cell_type": "code",
      "source": [],
      "metadata": {
        "id": "Yp9csf8Xbu4d"
      },
      "execution_count": null,
      "outputs": []
    }
  ]
}